{
  "nbformat": 4,
  "nbformat_minor": 0,
  "metadata": {
    "colab": {
      "name": "tf_kmeans.ipynb",
      "provenance": [],
      "collapsed_sections": []
    },
    "kernelspec": {
      "name": "python3",
      "display_name": "Python 3"
    }
  },
  "cells": [
    {
      "cell_type": "code",
      "metadata": {
        "id": "LdhmUyI4q5hL",
        "colab_type": "code",
        "outputId": "e94a1e98-6f0a-45cc-87b6-de7276b895cb",
        "colab": {
          "base_uri": "https://localhost:8080/",
          "height": 64
        }
      },
      "source": [
        "import numpy as np\n",
        "import tensorflow as tf\n",
        "from matplotlib import pyplot as plt"
      ],
      "execution_count": 0,
      "outputs": [
        {
          "output_type": "display_data",
          "data": {
            "text/html": [
              "<p style=\"color: red;\">\n",
              "The default version of TensorFlow in Colab will soon switch to TensorFlow 2.x.<br>\n",
              "We recommend you <a href=\"https://www.tensorflow.org/guide/migrate\" target=\"_blank\">upgrade</a> now \n",
              "or ensure your notebook will continue to use TensorFlow 1.x via the <code>%tensorflow_version 1.x</code> magic:\n",
              "<a href=\"https://colab.research.google.com/notebooks/tensorflow_version.ipynb\" target=\"_blank\">more info</a>.</p>\n"
            ],
            "text/plain": [
              "<IPython.core.display.HTML object>"
            ]
          },
          "metadata": {
            "tags": []
          }
        }
      ]
    },
    {
      "cell_type": "code",
      "metadata": {
        "id": "tp5MuPX8rFM4",
        "colab_type": "code",
        "outputId": "714a0dfb-687d-44df-e3f4-257c6d09e35b",
        "colab": {
          "base_uri": "https://localhost:8080/",
          "height": 1000
        }
      },
      "source": [
        "arr = np.array([1, 2, 3, 4, 5, 126, 21, 33, 6, 73, 2, 3, 56, 98, 100, 4, 8, 33, 102])\n",
        "arr2 = np.random.randint(low=1,high=500,size=(50,2))\n",
        "arr3 = np.random.randint(low=400,high=900,size=(50,2))\n",
        "arr4 = np.random.randint(low=800,high=1300,size=(50,2))\n",
        "arr_agg = np.concatenate((arr2, arr3, arr4), 0)\n",
        "arr_agg"
      ],
      "execution_count": 0,
      "outputs": [
        {
          "output_type": "execute_result",
          "data": {
            "text/plain": [
              "array([[ 463,   24],\n",
              "       [ 230,  265],\n",
              "       [ 317,  156],\n",
              "       [ 156,  102],\n",
              "       [ 158,  337],\n",
              "       [ 170,  209],\n",
              "       [ 364,  474],\n",
              "       [ 482,   30],\n",
              "       [ 232,  470],\n",
              "       [ 383,   47],\n",
              "       [ 428,  457],\n",
              "       [ 105,    4],\n",
              "       [ 145,  142],\n",
              "       [   3,   57],\n",
              "       [ 408,  189],\n",
              "       [ 133,   82],\n",
              "       [ 284,    1],\n",
              "       [ 245,  114],\n",
              "       [ 353,  486],\n",
              "       [  81,  300],\n",
              "       [ 485,  122],\n",
              "       [ 110,   26],\n",
              "       [   1,   46],\n",
              "       [ 413,  114],\n",
              "       [ 319,   74],\n",
              "       [  12,  461],\n",
              "       [ 227,  488],\n",
              "       [ 152,  427],\n",
              "       [ 445,  200],\n",
              "       [ 100,  223],\n",
              "       [ 383,   11],\n",
              "       [ 239,  206],\n",
              "       [ 128,   69],\n",
              "       [ 210,  222],\n",
              "       [ 474,   19],\n",
              "       [ 306,  104],\n",
              "       [ 226,  408],\n",
              "       [ 174,  463],\n",
              "       [ 497,  361],\n",
              "       [ 169,   15],\n",
              "       [ 342,   74],\n",
              "       [ 333,  147],\n",
              "       [  70,   81],\n",
              "       [ 101,  378],\n",
              "       [   9,  340],\n",
              "       [ 215,  238],\n",
              "       [ 153,  354],\n",
              "       [ 400,  421],\n",
              "       [ 372,  199],\n",
              "       [ 300,  140],\n",
              "       [ 554,  550],\n",
              "       [ 756,  453],\n",
              "       [ 438,  677],\n",
              "       [ 865,  837],\n",
              "       [ 440,  649],\n",
              "       [ 491,  872],\n",
              "       [ 649,  469],\n",
              "       [ 814,  727],\n",
              "       [ 465,  467],\n",
              "       [ 440,  712],\n",
              "       [ 655,  798],\n",
              "       [ 815,  498],\n",
              "       [ 860,  630],\n",
              "       [ 656,  611],\n",
              "       [ 853,  750],\n",
              "       [ 731,  794],\n",
              "       [ 412,  746],\n",
              "       [ 732,  573],\n",
              "       [ 840,  602],\n",
              "       [ 603,  842],\n",
              "       [ 747,  647],\n",
              "       [ 880,  441],\n",
              "       [ 402,  531],\n",
              "       [ 890,  650],\n",
              "       [ 532,  804],\n",
              "       [ 616,  849],\n",
              "       [ 453,  417],\n",
              "       [ 409,  410],\n",
              "       [ 857,  524],\n",
              "       [ 582,  565],\n",
              "       [ 611,  641],\n",
              "       [ 754,  855],\n",
              "       [ 566,  877],\n",
              "       [ 893,  780],\n",
              "       [ 649,  874],\n",
              "       [ 400,  617],\n",
              "       [ 826,  618],\n",
              "       [ 851,  831],\n",
              "       [ 701,  793],\n",
              "       [ 515,  568],\n",
              "       [ 797,  533],\n",
              "       [ 694,  527],\n",
              "       [ 406,  855],\n",
              "       [ 588,  419],\n",
              "       [ 854,  666],\n",
              "       [ 590,  411],\n",
              "       [ 809,  693],\n",
              "       [ 631,  822],\n",
              "       [ 686,  475],\n",
              "       [ 486,  535],\n",
              "       [1004,  818],\n",
              "       [1288, 1002],\n",
              "       [1046,  914],\n",
              "       [ 988,  880],\n",
              "       [ 893, 1168],\n",
              "       [1030, 1288],\n",
              "       [1154, 1242],\n",
              "       [ 905, 1107],\n",
              "       [ 874, 1227],\n",
              "       [1036, 1075],\n",
              "       [1038,  925],\n",
              "       [ 996, 1235],\n",
              "       [ 846, 1160],\n",
              "       [ 835, 1157],\n",
              "       [1036,  854],\n",
              "       [1100,  855],\n",
              "       [ 979,  998],\n",
              "       [1087, 1116],\n",
              "       [1245, 1141],\n",
              "       [1117, 1012],\n",
              "       [ 975, 1285],\n",
              "       [1150, 1007],\n",
              "       [ 876, 1281],\n",
              "       [1249,  826],\n",
              "       [1030,  906],\n",
              "       [ 933, 1206],\n",
              "       [1044, 1213],\n",
              "       [1226, 1193],\n",
              "       [1197,  882],\n",
              "       [1244, 1168],\n",
              "       [1146,  910],\n",
              "       [1134, 1028],\n",
              "       [ 990,  808],\n",
              "       [1057, 1089],\n",
              "       [1135,  989],\n",
              "       [1242, 1224],\n",
              "       [1229,  832],\n",
              "       [1265, 1123],\n",
              "       [ 976, 1269],\n",
              "       [ 814,  820],\n",
              "       [1233,  987],\n",
              "       [1187, 1252],\n",
              "       [ 953,  862],\n",
              "       [1138, 1251],\n",
              "       [ 845, 1216],\n",
              "       [ 824, 1161],\n",
              "       [1157,  926],\n",
              "       [1200, 1170],\n",
              "       [ 813, 1294],\n",
              "       [1080, 1078]])"
            ]
          },
          "metadata": {
            "tags": []
          },
          "execution_count": 33
        }
      ]
    },
    {
      "cell_type": "code",
      "metadata": {
        "id": "v3GDuaEzrez1",
        "colab_type": "code",
        "colab": {}
      },
      "source": [
        "def f(arr):\n",
        "  t = tf.convert_to_tensor(arr, dtype=tf.float32)\n",
        "  t = tf.expand_dims(t, 1)\n",
        "\n",
        "  return (t, None)\n",
        "\n",
        "def f2(arr):\n",
        "  t = tf.convert_to_tensor(arr, dtype=tf.float32)\n",
        "  return (t, None)"
      ],
      "execution_count": 0,
      "outputs": []
    },
    {
      "cell_type": "code",
      "metadata": {
        "id": "04Bob53Xui-4",
        "colab_type": "code",
        "outputId": "4a822054-bec1-4c09-a527-62038d4273c9",
        "colab": {
          "base_uri": "https://localhost:8080/",
          "height": 265
        }
      },
      "source": [
        "# plt.scatter(x=arr, y=np.zeros_like(arr), s=100)\n",
        "plt.scatter(arr_agg[:,0], arr_agg[:,1], s=100)\n",
        "plt.show()"
      ],
      "execution_count": 0,
      "outputs": [
        {
          "output_type": "display_data",
          "data": {
            "image/png": "[encoded data removed]",
            "text/plain": [
              "<Figure size 432x288 with 1 Axes>"
            ]
          },
          "metadata": {
            "tags": []
          }
        }
      ]
    },
    {
      "cell_type": "code",
      "metadata": {
        "id": "CMR9x7RdvqQ4",
        "colab_type": "code",
        "outputId": "96287f3c-e504-49a2-a111-8d765c105f65",
        "colab": {
          "base_uri": "https://localhost:8080/",
          "height": 193
        }
      },
      "source": [
        "k_means_estimator = tf.estimator.experimental.KMeans(num_clusters=3)\n",
        "from tensorflow.contrib.factorization.python.ops import clustering_ops"
      ],
      "execution_count": 0,
      "outputs": [
        {
          "output_type": "stream",
          "text": [
            "INFO:tensorflow:Using default config.\n",
            "WARNING:tensorflow:Using temporary folder as model directory: /tmp/tmpshep208n\n",
            "INFO:tensorflow:Using config: {'_model_dir': '/tmp/tmpshep208n', '_tf_random_seed': None, '_save_summary_steps': 100, '_save_checkpoints_steps': None, '_save_checkpoints_secs': 600, '_session_config': allow_soft_placement: true\n",
            "graph_options {\n",
            "  rewrite_options {\n",
            "    meta_optimizer_iterations: ONE\n",
            "  }\n",
            "}\n",
            ", '_keep_checkpoint_max': 5, '_keep_checkpoint_every_n_hours': 10000, '_log_step_count_steps': 100, '_train_distribute': None, '_device_fn': None, '_protocol': None, '_eval_distribute': None, '_experimental_distribute': None, '_experimental_max_worker_delay_secs': None, '_session_creation_timeout_secs': 7200, '_service': None, '_cluster_spec': <tensorflow.python.training.server_lib.ClusterSpec object at 0x7ffa4e5dc518>, '_task_type': 'worker', '_task_id': 0, '_global_id_in_cluster': 0, '_master': '', '_evaluation_master': '', '_is_chief': True, '_num_ps_replicas': 0, '_num_worker_replicas': 1}\n"
          ],
          "name": "stdout"
        }
      ]
    },
    {
      "cell_type": "code",
      "metadata": {
        "id": "V3fQMSGEvyeQ",
        "colab_type": "code",
        "outputId": "6ca986c0-4167-4fa3-a25a-9f3e6fa3022e",
        "colab": {
          "base_uri": "https://localhost:8080/",
          "height": 503
        }
      },
      "source": [
        "# fit = k_means_estimator.train(input_fn=lambda: f(arr), steps=1000)\n",
        "fit2 = k_means_estimator.train(input_fn=lambda: f2(arr_agg), steps=1000)"
      ],
      "execution_count": 0,
      "outputs": [
        {
          "output_type": "stream",
          "text": [
            "INFO:tensorflow:Calling model_fn.\n",
            "INFO:tensorflow:Done calling model_fn.\n",
            "INFO:tensorflow:Create CheckpointSaverHook.\n",
            "INFO:tensorflow:Graph was finalized.\n",
            "INFO:tensorflow:Running local_init_op.\n",
            "INFO:tensorflow:Done running local_init_op.\n",
            "INFO:tensorflow:Saving checkpoints for 0 into /tmp/tmpshep208n/model.ckpt.\n",
            "INFO:tensorflow:loss = 12270906.0, step = 1\n",
            "INFO:tensorflow:global_step/sec: 949.696\n",
            "INFO:tensorflow:loss = 6705336.5, step = 101 (0.108 sec)\n",
            "INFO:tensorflow:global_step/sec: 749.868\n",
            "INFO:tensorflow:loss = 6682505.5, step = 201 (0.131 sec)\n",
            "INFO:tensorflow:global_step/sec: 1107.01\n",
            "INFO:tensorflow:loss = 6658162.5, step = 301 (0.090 sec)\n",
            "INFO:tensorflow:global_step/sec: 1170.04\n",
            "INFO:tensorflow:loss = 6642079.5, step = 401 (0.086 sec)\n",
            "INFO:tensorflow:global_step/sec: 986.064\n",
            "INFO:tensorflow:loss = 6633764.5, step = 501 (0.105 sec)\n",
            "INFO:tensorflow:global_step/sec: 1123.79\n",
            "INFO:tensorflow:loss = 6624838.0, step = 601 (0.085 sec)\n",
            "INFO:tensorflow:global_step/sec: 1097.27\n",
            "INFO:tensorflow:loss = 6619439.0, step = 701 (0.091 sec)\n",
            "INFO:tensorflow:global_step/sec: 1107.49\n",
            "INFO:tensorflow:loss = 6615932.5, step = 801 (0.090 sec)\n",
            "INFO:tensorflow:global_step/sec: 1139.09\n",
            "INFO:tensorflow:loss = 6613530.5, step = 901 (0.088 sec)\n",
            "INFO:tensorflow:Saving checkpoints for 1000 into /tmp/tmpshep208n/model.ckpt.\n",
            "INFO:tensorflow:Loss for final step: 6611812.0.\n"
          ],
          "name": "stdout"
        }
      ]
    },
    {
      "cell_type": "code",
      "metadata": {
        "id": "4J0VdErhxldp",
        "colab_type": "code",
        "outputId": "d5038e3a-52e7-4d14-901a-6b300830423a",
        "colab": {
          "base_uri": "https://localhost:8080/",
          "height": 69
        }
      },
      "source": [
        "clusters = k_means_estimator.cluster_centers()\n",
        "clusters"
      ],
      "execution_count": 0,
      "outputs": [
        {
          "output_type": "execute_result",
          "data": {
            "text/plain": [
              "array([[1059.8649 , 1071.3486 ],\n",
              "       [ 655.3247 ,  651.8027 ],\n",
              "       [ 249.72348,  205.88449]], dtype=float32)"
            ]
          },
          "metadata": {
            "tags": []
          },
          "execution_count": 40
        }
      ]
    },
    {
      "cell_type": "code",
      "metadata": {
        "id": "h8cCF9LPWVJc",
        "colab_type": "code",
        "outputId": "94c3e94f-d810-4a18-e5f2-2db3d2fb7184",
        "colab": {
          "base_uri": "https://localhost:8080/",
          "height": 283
        }
      },
      "source": [
        "fig = plt.figure()\n",
        "ax1 = fig.add_subplot(111)\n",
        "\n",
        "ax1.scatter(arr_agg[:,0], arr_agg[:,1], s=100, marker='o')\n",
        "ax1.scatter(clusters[:,0], clusters[:,1], s=100, c='r', marker='o')\n"
      ],
      "execution_count": 0,
      "outputs": [
        {
          "output_type": "execute_result",
          "data": {
            "text/plain": [
              "<matplotlib.collections.PathCollection at 0x7ffa4e5c7828>"
            ]
          },
          "metadata": {
            "tags": []
          },
          "execution_count": 43
        },
        {
          "output_type": "display_data",
          "data": {
            "image/png": "[encoded data removed]",
            "text/plain": [
              "<Figure size 432x288 with 1 Axes>"
            ]
          },
          "metadata": {
            "tags": []
          }
        }
      ]
    },
    {
      "cell_type": "code",
      "metadata": {
        "id": "a6fOVLaKyJQi",
        "colab_type": "code",
        "outputId": "1ba47ae0-37c0-4f90-bc05-a537bb1021d8",
        "colab": {
          "base_uri": "https://localhost:8080/",
          "height": 104
        }
      },
      "source": [
        "for name in fit.get_variable_names():\n",
        "  print(name, \" ------> \", fit.get_variable_value(name))"
      ],
      "execution_count": 0,
      "outputs": [
        {
          "output_type": "stream",
          "text": [
            "Variable  ------>  [14002  5000]\n",
            "clusters  ------>  [[12.944519]\n",
            " [99.8107  ]]\n",
            "global_step  ------>  1000\n",
            "initialized  ------>  True\n"
          ],
          "name": "stdout"
        }
      ]
    },
    {
      "cell_type": "code",
      "metadata": {
        "id": "M1NNL21IyrPB",
        "colab_type": "code",
        "colab": {}
      },
      "source": [
        "x = np.array([0, 100], dtype='float32')\n",
        "\n",
        "\n",
        "# Transforms each data point specified to distance from clusters\n",
        "transform = k_means_estimator.transform(input_fn=lambda: f(x))"
      ],
      "execution_count": 0,
      "outputs": []
    },
    {
      "cell_type": "code",
      "metadata": {
        "id": "Dc6w8-yyzKTp",
        "colab_type": "code",
        "colab": {}
      },
      "source": [
        "predict = k_means_estimator.predict(input_fn=lambda: f(x))\n",
        "predict2 = k_means_estimator.predict(input_fn=lambda: f2([[1000, 1000]]))"
      ],
      "execution_count": 0,
      "outputs": []
    },
    {
      "cell_type": "code",
      "metadata": {
        "id": "Kcik1WtMziXN",
        "colab_type": "code",
        "outputId": "340058e9-a55b-42a0-daa6-b31b3d21c855",
        "colab": {
          "base_uri": "https://localhost:8080/",
          "height": 173
        }
      },
      "source": [
        "next(predict2)"
      ],
      "execution_count": 0,
      "outputs": [
        {
          "output_type": "stream",
          "text": [
            "WARNING:tensorflow:Input graph does not use tf.data.Dataset or contain a QueueRunner. That means predict yields forever. This is probably a mistake.\n",
            "INFO:tensorflow:Calling model_fn.\n",
            "INFO:tensorflow:Done calling model_fn.\n",
            "INFO:tensorflow:Graph was finalized.\n",
            "INFO:tensorflow:Restoring parameters from /tmp/tmpshep208n/model.ckpt-1000\n",
            "INFO:tensorflow:Running local_init_op.\n",
            "INFO:tensorflow:Done running local_init_op.\n"
          ],
          "name": "stdout"
        },
        {
          "output_type": "execute_result",
          "data": {
            "text/plain": [
              "{'all_distances': array([   8674.5 ,  240042.44, 1193534.2 ], dtype=float32),\n",
              " 'cluster_index': 0}"
            ]
          },
          "metadata": {
            "tags": []
          },
          "execution_count": 52
        }
      ]
    },
    {
      "cell_type": "code",
      "metadata": {
        "id": "cl479dqH0Wje",
        "colab_type": "code",
        "colab": {}
      },
      "source": [
        ""
      ],
      "execution_count": 0,
      "outputs": []
    }
  ]
}