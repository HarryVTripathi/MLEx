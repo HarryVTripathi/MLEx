{
  "nbformat": 4,
  "nbformat_minor": 0,
  "metadata": {
    "colab": {
      "name": "tfdem3.ipynb",
      "provenance": [],
      "collapsed_sections": []
    },
    "kernelspec": {
      "name": "python3",
      "display_name": "Python 3"
    }
  },
  "cells": [
    {
      "cell_type": "code",
      "metadata": {
        "id": "4I_PG2WzzDz6",
        "colab_type": "code",
        "colab": {}
      },
      "source": [
        "import tensorflow as tf\n",
        "import numpy as np"
      ],
      "execution_count": 0,
      "outputs": []
    },
    {
      "cell_type": "code",
      "metadata": {
        "id": "XnPNdE69zGSE",
        "colab_type": "code",
        "colab": {}
      },
      "source": [
        "arr1 = np.array([(1, 2, 3), (4, 5, 6)])\n",
        "a = tf.constant(value=arr1)\n",
        "b = tf.placeholder(shape=(3, 2), dtype='int32')\n",
        "c = tf.Variable(initial_value=arr1)"
      ],
      "execution_count": 0,
      "outputs": []
    },
    {
      "cell_type": "code",
      "metadata": {
        "id": "m59MXx3o0H9d",
        "colab_type": "code",
        "colab": {}
      },
      "source": [
        "# initializer\n",
        "init = tf.global_variables_initializer()"
      ],
      "execution_count": 0,
      "outputs": []
    },
    {
      "cell_type": "code",
      "metadata": {
        "id": "jjkvkLvmzR9S",
        "colab_type": "code",
        "outputId": "1b1732f5-fcc6-4878-ce46-4efcfbf9e69b",
        "colab": {
          "base_uri": "https://localhost:8080/",
          "height": 69
        }
      },
      "source": [
        "with tf.Session() as sess:\n",
        "  # without this, variable will not run\n",
        "  sess.run(init)\n",
        "  c = tf.reshape(tensor=c, shape=[-1])\n",
        "  print(sess.run(a))\n",
        "  print(sess.run(c))"
      ],
      "execution_count": 0,
      "outputs": [
        {
          "output_type": "stream",
          "text": [
            "[[1 2 3]\n",
            " [4 5 6]]\n",
            "[1 2 3 4 5 6]\n"
          ],
          "name": "stdout"
        }
      ]
    },
    {
      "cell_type": "code",
      "metadata": {
        "id": "pwcXyHCQze2k",
        "colab_type": "code",
        "colab": {}
      },
      "source": [
        ""
      ],
      "execution_count": 0,
      "outputs": []
    }
  ]
}