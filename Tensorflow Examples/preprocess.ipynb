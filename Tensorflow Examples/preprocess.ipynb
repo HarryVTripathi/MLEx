{
 "cells": [
  {
   "cell_type": "code",
   "execution_count": 2,
   "metadata": {
    "colab": {},
    "colab_type": "code",
    "id": "KtJrxzr60mM8"
   },
   "outputs": [],
   "source": [
    "import pandas as pd"
   ]
  },
  {
   "cell_type": "code",
   "execution_count": 3,
   "metadata": {
    "colab": {},
    "colab_type": "code",
    "id": "F6Mlsaga0mNM"
   },
   "outputs": [],
   "source": [
    "data_train = pd.read_csv('C:\\\\Users\\\\Harry\\\\Documents\\\\DS\\\\Datasets\\\\senti_set\\\\dataset\\\\hm_train.csv', index_col=False)\n",
    "data_test = pd.read_csv('C:\\\\Users\\\\Harry\\\\Documents\\\\DS\\\\Datasets\\\\senti_set\\\\dataset\\\\hm_train.csv', index_col=False)"
   ]
  },
  {
   "cell_type": "code",
   "execution_count": 4,
   "metadata": {
    "colab": {},
    "colab_type": "code",
    "id": "itw45m2k0mNX",
    "outputId": "17794759-1d6d-47fa-b368-196943a521a2"
   },
   "outputs": [
    {
     "data": {
      "text/html": [
       "<div>\n",
       "<style scoped>\n",
       "    .dataframe tbody tr th:only-of-type {\n",
       "        vertical-align: middle;\n",
       "    }\n",
       "\n",
       "    .dataframe tbody tr th {\n",
       "        vertical-align: top;\n",
       "    }\n",
       "\n",
       "    .dataframe thead th {\n",
       "        text-align: right;\n",
       "    }\n",
       "</style>\n",
       "<table border=\"1\" class=\"dataframe\">\n",
       "  <thead>\n",
       "    <tr style=\"text-align: right;\">\n",
       "      <th></th>\n",
       "      <th>hmid</th>\n",
       "      <th>reflection_period</th>\n",
       "      <th>cleaned_hm</th>\n",
       "      <th>num_sentence</th>\n",
       "      <th>predicted_category</th>\n",
       "    </tr>\n",
       "  </thead>\n",
       "  <tbody>\n",
       "    <tr>\n",
       "      <th>0</th>\n",
       "      <td>27673</td>\n",
       "      <td>24h</td>\n",
       "      <td>I went on a successful date with someone I fel...</td>\n",
       "      <td>1</td>\n",
       "      <td>affection</td>\n",
       "    </tr>\n",
       "    <tr>\n",
       "      <th>1</th>\n",
       "      <td>27674</td>\n",
       "      <td>24h</td>\n",
       "      <td>I was happy when my son got 90% marks in his e...</td>\n",
       "      <td>1</td>\n",
       "      <td>affection</td>\n",
       "    </tr>\n",
       "    <tr>\n",
       "      <th>2</th>\n",
       "      <td>27675</td>\n",
       "      <td>24h</td>\n",
       "      <td>I went to the gym this morning and did yoga.</td>\n",
       "      <td>1</td>\n",
       "      <td>exercise</td>\n",
       "    </tr>\n",
       "    <tr>\n",
       "      <th>3</th>\n",
       "      <td>27676</td>\n",
       "      <td>24h</td>\n",
       "      <td>We had a serious talk with some friends of our...</td>\n",
       "      <td>2</td>\n",
       "      <td>bonding</td>\n",
       "    </tr>\n",
       "    <tr>\n",
       "      <th>4</th>\n",
       "      <td>27677</td>\n",
       "      <td>24h</td>\n",
       "      <td>I went with grandchildren to butterfly display...</td>\n",
       "      <td>1</td>\n",
       "      <td>affection</td>\n",
       "    </tr>\n",
       "  </tbody>\n",
       "</table>\n",
       "</div>"
      ],
      "text/plain": [
       "    hmid reflection_period                                         cleaned_hm  \\\n",
       "0  27673               24h  I went on a successful date with someone I fel...   \n",
       "1  27674               24h  I was happy when my son got 90% marks in his e...   \n",
       "2  27675               24h       I went to the gym this morning and did yoga.   \n",
       "3  27676               24h  We had a serious talk with some friends of our...   \n",
       "4  27677               24h  I went with grandchildren to butterfly display...   \n",
       "\n",
       "   num_sentence predicted_category  \n",
       "0             1          affection  \n",
       "1             1          affection  \n",
       "2             1           exercise  \n",
       "3             2            bonding  \n",
       "4             1          affection  "
      ]
     },
     "execution_count": 4,
     "metadata": {},
     "output_type": "execute_result"
    }
   ],
   "source": [
    "data_train.head()"
   ]
  },
  {
   "cell_type": "code",
   "execution_count": 5,
   "metadata": {
    "colab": {},
    "colab_type": "code",
    "id": "6FQkPHmC0mNi",
    "outputId": "59827689-84a0-431d-b3ff-be5ce3dfc68a"
   },
   "outputs": [
    {
     "data": {
      "text/html": [
       "<div>\n",
       "<style scoped>\n",
       "    .dataframe tbody tr th:only-of-type {\n",
       "        vertical-align: middle;\n",
       "    }\n",
       "\n",
       "    .dataframe tbody tr th {\n",
       "        vertical-align: top;\n",
       "    }\n",
       "\n",
       "    .dataframe thead th {\n",
       "        text-align: right;\n",
       "    }\n",
       "</style>\n",
       "<table border=\"1\" class=\"dataframe\">\n",
       "  <thead>\n",
       "    <tr style=\"text-align: right;\">\n",
       "      <th></th>\n",
       "      <th>cleaned_hm</th>\n",
       "      <th>num_sentence</th>\n",
       "      <th>predicted_category</th>\n",
       "    </tr>\n",
       "  </thead>\n",
       "  <tbody>\n",
       "    <tr>\n",
       "      <th>0</th>\n",
       "      <td>I went on a successful date with someone I fel...</td>\n",
       "      <td>1</td>\n",
       "      <td>affection</td>\n",
       "    </tr>\n",
       "    <tr>\n",
       "      <th>1</th>\n",
       "      <td>I was happy when my son got 90% marks in his e...</td>\n",
       "      <td>1</td>\n",
       "      <td>affection</td>\n",
       "    </tr>\n",
       "    <tr>\n",
       "      <th>2</th>\n",
       "      <td>I went to the gym this morning and did yoga.</td>\n",
       "      <td>1</td>\n",
       "      <td>exercise</td>\n",
       "    </tr>\n",
       "    <tr>\n",
       "      <th>3</th>\n",
       "      <td>We had a serious talk with some friends of our...</td>\n",
       "      <td>2</td>\n",
       "      <td>bonding</td>\n",
       "    </tr>\n",
       "    <tr>\n",
       "      <th>4</th>\n",
       "      <td>I went with grandchildren to butterfly display...</td>\n",
       "      <td>1</td>\n",
       "      <td>affection</td>\n",
       "    </tr>\n",
       "  </tbody>\n",
       "</table>\n",
       "</div>"
      ],
      "text/plain": [
       "                                          cleaned_hm  num_sentence  \\\n",
       "0  I went on a successful date with someone I fel...             1   \n",
       "1  I was happy when my son got 90% marks in his e...             1   \n",
       "2       I went to the gym this morning and did yoga.             1   \n",
       "3  We had a serious talk with some friends of our...             2   \n",
       "4  I went with grandchildren to butterfly display...             1   \n",
       "\n",
       "  predicted_category  \n",
       "0          affection  \n",
       "1          affection  \n",
       "2           exercise  \n",
       "3            bonding  \n",
       "4          affection  "
      ]
     },
     "execution_count": 5,
     "metadata": {},
     "output_type": "execute_result"
    }
   ],
   "source": [
    "data_train = data_train.drop(['hmid', 'reflection_period'], axis=1)\n",
    "data_train.head()"
   ]
  },
  {
   "cell_type": "code",
   "execution_count": 6,
   "metadata": {
    "colab": {},
    "colab_type": "code",
    "id": "exLLyAC80mNr",
    "outputId": "f4c2498c-2be7-429c-ee40-2e14fc1f4309"
   },
   "outputs": [
    {
     "data": {
      "text/plain": [
       "affection           20880\n",
       "achievement         20274\n",
       "bonding              6561\n",
       "enjoy_the_moment     6508\n",
       "leisure              4242\n",
       "nature               1127\n",
       "exercise              729\n",
       "Name: predicted_category, dtype: int64"
      ]
     },
     "execution_count": 6,
     "metadata": {},
     "output_type": "execute_result"
    }
   ],
   "source": [
    "data_train['predicted_category'].value_counts()"
   ]
  },
  {
   "cell_type": "code",
   "execution_count": 7,
   "metadata": {
    "colab": {},
    "colab_type": "code",
    "id": "fM8i1Ynl0mN4"
   },
   "outputs": [],
   "source": [
    "categories = {'affection': 0, 'achievement': 1, 'bonding': 2, 'enjoy_the_moment': 3, 'leisure': 4, 'nature': 5, 'exercise': 6}"
   ]
  },
  {
   "cell_type": "code",
   "execution_count": 8,
   "metadata": {
    "colab": {},
    "colab_type": "code",
    "id": "nioZRM610mOB"
   },
   "outputs": [],
   "source": [
    "data_train['predicted_category'] = data_train['predicted_category'].map(categories)"
   ]
  },
  {
   "cell_type": "code",
   "execution_count": 9,
   "metadata": {
    "colab": {},
    "colab_type": "code",
    "id": "5Ew3ALgY0mOI",
    "outputId": "212d6b69-9acb-45af-c399-b1e1bd557772"
   },
   "outputs": [
    {
     "data": {
      "text/html": [
       "<div>\n",
       "<style scoped>\n",
       "    .dataframe tbody tr th:only-of-type {\n",
       "        vertical-align: middle;\n",
       "    }\n",
       "\n",
       "    .dataframe tbody tr th {\n",
       "        vertical-align: top;\n",
       "    }\n",
       "\n",
       "    .dataframe thead th {\n",
       "        text-align: right;\n",
       "    }\n",
       "</style>\n",
       "<table border=\"1\" class=\"dataframe\">\n",
       "  <thead>\n",
       "    <tr style=\"text-align: right;\">\n",
       "      <th></th>\n",
       "      <th>cleaned_hm</th>\n",
       "      <th>num_sentence</th>\n",
       "      <th>predicted_category</th>\n",
       "    </tr>\n",
       "  </thead>\n",
       "  <tbody>\n",
       "    <tr>\n",
       "      <th>0</th>\n",
       "      <td>I went on a successful date with someone I fel...</td>\n",
       "      <td>1</td>\n",
       "      <td>0</td>\n",
       "    </tr>\n",
       "    <tr>\n",
       "      <th>1</th>\n",
       "      <td>I was happy when my son got 90% marks in his e...</td>\n",
       "      <td>1</td>\n",
       "      <td>0</td>\n",
       "    </tr>\n",
       "    <tr>\n",
       "      <th>2</th>\n",
       "      <td>I went to the gym this morning and did yoga.</td>\n",
       "      <td>1</td>\n",
       "      <td>6</td>\n",
       "    </tr>\n",
       "    <tr>\n",
       "      <th>3</th>\n",
       "      <td>We had a serious talk with some friends of our...</td>\n",
       "      <td>2</td>\n",
       "      <td>2</td>\n",
       "    </tr>\n",
       "    <tr>\n",
       "      <th>4</th>\n",
       "      <td>I went with grandchildren to butterfly display...</td>\n",
       "      <td>1</td>\n",
       "      <td>0</td>\n",
       "    </tr>\n",
       "  </tbody>\n",
       "</table>\n",
       "</div>"
      ],
      "text/plain": [
       "                                          cleaned_hm  num_sentence  \\\n",
       "0  I went on a successful date with someone I fel...             1   \n",
       "1  I was happy when my son got 90% marks in his e...             1   \n",
       "2       I went to the gym this morning and did yoga.             1   \n",
       "3  We had a serious talk with some friends of our...             2   \n",
       "4  I went with grandchildren to butterfly display...             1   \n",
       "\n",
       "   predicted_category  \n",
       "0                   0  \n",
       "1                   0  \n",
       "2                   6  \n",
       "3                   2  \n",
       "4                   0  "
      ]
     },
     "execution_count": 9,
     "metadata": {},
     "output_type": "execute_result"
    }
   ],
   "source": [
    "data_train.head()"
   ]
  },
  {
   "cell_type": "code",
   "execution_count": 10,
   "metadata": {
    "colab": {},
    "colab_type": "code",
    "id": "OU8XlTKd0mOP"
   },
   "outputs": [],
   "source": [
    "sentences = data_train['cleaned_hm'].tolist()\n",
    "num_sentence = data_train['num_sentence'].tolist()\n",
    "category = data_train['predicted_category'].tolist()"
   ]
  },
  {
   "cell_type": "code",
   "execution_count": 11,
   "metadata": {
    "colab": {},
    "colab_type": "code",
    "id": "3oZoLVBK0mOY"
   },
   "outputs": [],
   "source": [
    "count = 0\n",
    "count2 = 0\n",
    "count3 = 0\n",
    "for i in range(len(sentences)):\n",
    "    try:\n",
    "        a = sentences[i].strip().split('.')\n",
    "        a = [i for i in a if i] \n",
    "        if len(a) != num_sentence[i]:\n",
    "#             print(sentences[i])\n",
    "#             print(a)\n",
    "#             print(len(a))\n",
    "#             print(num_sentence[i])\n",
    "#             print('not cool')\n",
    "            count += 1\n",
    "    except:\n",
    "        count3 += 1\n",
    "        if num_sentence[i] != 1:\n",
    "            print('problem')\n",
    "            count2 += 1"
   ]
  },
  {
   "cell_type": "code",
   "execution_count": 12,
   "metadata": {
    "colab": {},
    "colab_type": "code",
    "id": "J_P6QRs40mOj",
    "outputId": "03b1015d-3baf-467b-ed7b-ab3039b3d40f"
   },
   "outputs": [
    {
     "data": {
      "text/plain": [
       "0"
      ]
     },
     "execution_count": 12,
     "metadata": {},
     "output_type": "execute_result"
    }
   ],
   "source": [
    "count3"
   ]
  },
  {
   "cell_type": "code",
   "execution_count": 13,
   "metadata": {
    "colab": {},
    "colab_type": "code",
    "id": "s3uFP54H0mOr",
    "outputId": "c8674b5c-d69c-4a4c-ca73-30a8cfe5f1d5"
   },
   "outputs": [
    {
     "data": {
      "text/plain": [
       "0"
      ]
     },
     "execution_count": 13,
     "metadata": {},
     "output_type": "execute_result"
    }
   ],
   "source": [
    "count2"
   ]
  },
  {
   "cell_type": "code",
   "execution_count": 14,
   "metadata": {
    "colab": {},
    "colab_type": "code",
    "id": "b5EsQ4Pq0mOx",
    "outputId": "912be89f-feed-437b-c6ef-6ee9ee014fb3"
   },
   "outputs": [
    {
     "data": {
      "text/plain": [
       "60321"
      ]
     },
     "execution_count": 14,
     "metadata": {},
     "output_type": "execute_result"
    }
   ],
   "source": [
    "len(category)"
   ]
  },
  {
   "cell_type": "code",
   "execution_count": 15,
   "metadata": {
    "colab": {},
    "colab_type": "code",
    "id": "6co_ebhg0mO4"
   },
   "outputs": [],
   "source": [
    "new_sentences_list = []\n",
    "categories_list = []\n",
    "for i in range(len(sentences)):\n",
    "    try:\n",
    "        a = sentences[i].strip().split('.')\n",
    "        a = [j for j in a if j] \n",
    "        if len(a):\n",
    "            for sent in a:\n",
    "                new_sentences_list.append(sent.strip())\n",
    "                categories_list.append(category[i])\n",
    "    except:\n",
    "        if num_sentence[i] != 1:\n",
    "            print('problem')"
   ]
  },
  {
   "cell_type": "code",
   "execution_count": 16,
   "metadata": {
    "colab": {},
    "colab_type": "code",
    "id": "5hTfkaf90mO_",
    "outputId": "b67be6c5-96f2-4be8-ad91-44884dd93a7b"
   },
   "outputs": [
    {
     "name": "stdout",
     "output_type": "stream",
     "text": [
      "60321\n",
      "60321\n",
      "83643\n",
      "83643\n"
     ]
    }
   ],
   "source": [
    "print(len(sentences))\n",
    "print(len(category))\n",
    "\n",
    "print(len(new_sentences_list))\n",
    "print(len(categories_list))"
   ]
  },
  {
   "cell_type": "code",
   "execution_count": 17,
   "metadata": {
    "colab": {},
    "colab_type": "code",
    "id": "gbbDRGTR0mPE",
    "outputId": "4a5564d9-db19-4574-e669-6f46589c9fa6"
   },
   "outputs": [
    {
     "name": "stdout",
     "output_type": "stream",
     "text": [
      "['I went on a successful date with someone I felt sympathy and connection with', 'I was happy when my son got 90% marks in his examination', 'I went to the gym this morning and did yoga', 'We had a serious talk with some friends of ours who have been flaky lately', 'They understood and we had a good evening hanging out', 'I went with grandchildren to butterfly display at Crohn Conservatory', 'I meditated last night', 'I made a new recipe for peasant bread, and it came out spectacular!', 'I got gift from my elder brother which was really surprising me', 'YESTERDAY MY MOMS BIRTHDAY SO I ENJOYED']\n"
     ]
    }
   ],
   "source": [
    "print(new_sentences_list[:10])"
   ]
  },
  {
   "cell_type": "code",
   "execution_count": 18,
   "metadata": {
    "colab": {},
    "colab_type": "code",
    "id": "BsvYIYhk0mPJ",
    "outputId": "f63446de-861d-4c2e-db58-62b682cbd07e"
   },
   "outputs": [
    {
     "name": "stdout",
     "output_type": "stream",
     "text": [
      "[0, 0, 6, 2, 2, 0, 4, 1, 0, 3]\n"
     ]
    }
   ],
   "source": [
    "print(categories_list[:10])"
   ]
  },
  {
   "cell_type": "code",
   "execution_count": 21,
   "metadata": {
    "colab": {},
    "colab_type": "code",
    "id": "dReZTETJ0mPP"
   },
   "outputs": [],
   "source": [
    "import pickle\n",
    "with open('sentences_list.pkl', 'wb') as f:\n",
    "    pickle.dump(new_sentences_list, f)\n",
    "    \n",
    "with open('categories_list.pkl', 'wb') as f:\n",
    "    pickle.dump(categories_list, f)"
   ]
  },
  {
   "cell_type": "code",
   "execution_count": 0,
   "metadata": {
    "colab": {},
    "colab_type": "code",
    "id": "MgDIQYMr0mPV"
   },
   "outputs": [],
   "source": []
  }
 ],
 "metadata": {
  "accelerator": "GPU",
  "colab": {
   "collapsed_sections": [],
   "name": "preprocess.ipynb",
   "provenance": []
  },
  "kernelspec": {
   "display_name": "Python 3",
   "language": "python",
   "name": "python3"
  },
  "language_info": {
   "codemirror_mode": {
    "name": "ipython",
    "version": 3
   },
   "file_extension": ".py",
   "mimetype": "text/x-python",
   "name": "python",
   "nbconvert_exporter": "python",
   "pygments_lexer": "ipython3",
   "version": "3.6.4"
  }
 },
 "nbformat": 4,
 "nbformat_minor": 1
}
