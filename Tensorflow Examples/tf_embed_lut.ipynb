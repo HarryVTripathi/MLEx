{
  "nbformat": 4,
  "nbformat_minor": 0,
  "metadata": {
    "colab": {
      "name": "tf_embed_lut.ipynb",
      "provenance": [],
      "collapsed_sections": []
    },
    "kernelspec": {
      "name": "python3",
      "display_name": "Python 3"
    }
  },
  "cells": [
    {
      "cell_type": "code",
      "metadata": {
        "id": "esAYYAJxfsC9",
        "colab_type": "code",
        "outputId": "bb1ac6a0-4b1a-48c9-c0c9-c1c748ca91aa",
        "colab": {
          "base_uri": "https://localhost:8080/",
          "height": 64
        }
      },
      "source": [
        "import tensorflow as tf\n",
        "import numpy as np"
      ],
      "execution_count": 0,
      "outputs": [
        {
          "output_type": "display_data",
          "data": {
            "text/html": [
              "<p style=\"color: red;\">\n",
              "The default version of TensorFlow in Colab will soon switch to TensorFlow 2.x.<br>\n",
              "We recommend you <a href=\"https://www.tensorflow.org/guide/migrate\" target=\"_blank\">upgrade</a> now \n",
              "or ensure your notebook will continue to use TensorFlow 1.x via the <code>%tensorflow_version 1.x</code> magic:\n",
              "<a href=\"https://colab.research.google.com/notebooks/tensorflow_version.ipynb\" target=\"_blank\">more info</a>.</p>\n"
            ],
            "text/plain": [
              "<IPython.core.display.HTML object>"
            ]
          },
          "metadata": {
            "tags": []
          }
        }
      ]
    },
    {
      "cell_type": "code",
      "metadata": {
        "id": "fyR_65RGz2_7",
        "colab_type": "code",
        "colab": {}
      },
      "source": [
        "arr = np.random.randint(low=2, high=200, size=60)\n",
        "arr1 = arr.reshape((10,6))\n",
        "arr2 = arr.reshape((5,4,3))"
      ],
      "execution_count": 0,
      "outputs": []
    },
    {
      "cell_type": "code",
      "metadata": {
        "id": "Iv5JXvYcDYRO",
        "colab_type": "code",
        "outputId": "31c44c6f-7376-4315-9bb4-dfca4d194b80",
        "colab": {
          "base_uri": "https://localhost:8080/",
          "height": 433
        }
      },
      "source": [
        "arr2"
      ],
      "execution_count": 0,
      "outputs": [
        {
          "output_type": "execute_result",
          "data": {
            "text/plain": [
              "array([[[ 59, 172, 118],\n",
              "        [ 68,  73, 117],\n",
              "        [147, 160,  22],\n",
              "        [175, 148,  47]],\n",
              "\n",
              "       [[  4, 154, 109],\n",
              "        [178, 182, 168],\n",
              "        [ 62, 131,  16],\n",
              "        [112,  15,  12]],\n",
              "\n",
              "       [[ 90,  54, 135],\n",
              "        [  2,  77, 128],\n",
              "        [ 95,  60,  94],\n",
              "        [ 12,  68,  30]],\n",
              "\n",
              "       [[ 68, 178, 158],\n",
              "        [142, 119,  35],\n",
              "        [183, 112,  26],\n",
              "        [ 22,  67,  37]],\n",
              "\n",
              "       [[136, 125,  78],\n",
              "        [  3, 120, 106],\n",
              "        [115, 128, 140],\n",
              "        [120, 168, 146]]])"
            ]
          },
          "metadata": {
            "tags": []
          },
          "execution_count": 25
        }
      ]
    },
    {
      "cell_type": "code",
      "metadata": {
        "id": "ogD0J9rt0dRU",
        "colab_type": "code",
        "outputId": "c6d93091-47c9-4dcd-c652-a3ccf315e41d",
        "colab": {
          "base_uri": "https://localhost:8080/",
          "height": 191
        }
      },
      "source": [
        "arr1"
      ],
      "execution_count": 0,
      "outputs": [
        {
          "output_type": "execute_result",
          "data": {
            "text/plain": [
              "array([[175,  92, 190,  37, 123,  62],\n",
              "       [ 87,  36,  91,  72,  25, 102],\n",
              "       [135,  94,   2,  31,  36,  63],\n",
              "       [ 92, 131, 116, 191,  94,  81],\n",
              "       [ 53,  94, 173,  75,   2, 143],\n",
              "       [165, 178, 146,  40,  61,  31],\n",
              "       [  9, 172,  63, 193,  34, 191],\n",
              "       [137, 189, 135, 193, 109,  99],\n",
              "       [ 31,  93, 160,  83, 119, 147],\n",
              "       [163, 153, 198,  91,  26, 182]])"
            ]
          },
          "metadata": {
            "tags": []
          },
          "execution_count": 12
        }
      ]
    },
    {
      "cell_type": "code",
      "metadata": {
        "id": "NBOcyKvr0eAe",
        "colab_type": "code",
        "colab": {}
      },
      "source": [
        "t1 = tf.constant(value=arr, dtype=tf.int32)"
      ],
      "execution_count": 0,
      "outputs": []
    },
    {
      "cell_type": "code",
      "metadata": {
        "id": "9hAEYiBR0tT8",
        "colab_type": "code",
        "colab": {}
      },
      "source": [
        "tlu1 = tf.nn.embedding_lookup(params=arr1, ids=[2, 4, 1, 5])\n",
        "tlu2 = tf.nn.embedding_lookup(params=arr1, ids=[[1, 2]])\n",
        "tlu3 = tf.nn.embedding_lookup(params=arr1, ids=[[1], [2]])\n",
        "tlu4 = tf.nn.embedding_lookup(params=arr2, ids=[2, 3])\n",
        "tlu5 = tf.nn.embedding_lookup(params=arr2, ids=[[2], [3]])"
      ],
      "execution_count": 0,
      "outputs": []
    },
    {
      "cell_type": "code",
      "metadata": {
        "id": "X2Wv6RtX1GpP",
        "colab_type": "code",
        "outputId": "44ce1ebc-6ddf-416c-9112-601589f634b6",
        "colab": {
          "base_uri": "https://localhost:8080/",
          "height": 191
        }
      },
      "source": [
        "with tf.Session() as sess:\n",
        "  # print(sess.run(tlu1))\n",
        "  # print(sess.run(tlu2))\n",
        "  # print(sess.run(tlu3))\n",
        "  # print(sess.run(tlu4))\n",
        "  print(sess.run(tlu5))"
      ],
      "execution_count": 0,
      "outputs": [
        {
          "output_type": "stream",
          "text": [
            "[[[[ 90  54 135]\n",
            "   [  2  77 128]\n",
            "   [ 95  60  94]\n",
            "   [ 12  68  30]]]\n",
            "\n",
            "\n",
            " [[[ 68 178 158]\n",
            "   [142 119  35]\n",
            "   [183 112  26]\n",
            "   [ 22  67  37]]]]\n"
          ],
          "name": "stdout"
        }
      ]
    },
    {
      "cell_type": "code",
      "metadata": {
        "id": "vOTwk83-1pfp",
        "colab_type": "code",
        "colab": {}
      },
      "source": [
        ""
      ],
      "execution_count": 0,
      "outputs": []
    }
  ]
}