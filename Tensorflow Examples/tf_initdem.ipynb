{
  "nbformat": 4,
  "nbformat_minor": 0,
  "metadata": {
    "colab": {
      "name": "tf_initdem.ipynb",
      "provenance": [],
      "collapsed_sections": []
    },
    "kernelspec": {
      "name": "python3",
      "display_name": "Python 3"
    }
  },
  "cells": [
    {
      "cell_type": "code",
      "metadata": {
        "id": "cg0ktF1e8ixN",
        "colab_type": "code",
        "outputId": "f4935b2c-fe3b-4091-a1da-c76d94dc17cb",
        "colab": {
          "base_uri": "https://localhost:8080/",
          "height": 64
        }
      },
      "source": [
        "import tensorflow as tf"
      ],
      "execution_count": 0,
      "outputs": [
        {
          "output_type": "display_data",
          "data": {
            "text/html": [
              "<p style=\"color: red;\">\n",
              "The default version of TensorFlow in Colab will soon switch to TensorFlow 2.x.<br>\n",
              "We recommend you <a href=\"https://www.tensorflow.org/guide/migrate\" target=\"_blank\">upgrade</a> now \n",
              "or ensure your notebook will continue to use TensorFlow 1.x via the <code>%tensorflow_version 1.x</code> magic:\n",
              "<a href=\"https://colab.research.google.com/notebooks/tensorflow_version.ipynb\" target=\"_blank\">more info</a>.</p>\n"
            ],
            "text/plain": [
              "<IPython.core.display.HTML object>"
            ]
          },
          "metadata": {
            "tags": []
          }
        }
      ]
    },
    {
      "cell_type": "code",
      "metadata": {
        "id": "SqyfO1ps8ltb",
        "colab_type": "code",
        "colab": {}
      },
      "source": [
        "# here tf.random_normal_initializer is the constructor\n",
        "initializer_instance = tf.random_normal_initializer(mean=3.0, stddev=1.0)\n",
        "a = initializer_instance(shape=(2,3))"
      ],
      "execution_count": 0,
      "outputs": []
    },
    {
      "cell_type": "code",
      "metadata": {
        "id": "BjnzEC0lJZ_s",
        "colab_type": "code",
        "colab": {}
      },
      "source": [
        "init_instance1 = tf.orthogonal_initializer()\n",
        "init_instance2 = tf.initializers.orthogonal()\n",
        "b = init_instance1(shape=(3,3))\n",
        "c = init_instance2(shape=(2,2,2))"
      ],
      "execution_count": 0,
      "outputs": []
    },
    {
      "cell_type": "code",
      "metadata": {
        "id": "74OhqQPbMPQ6",
        "colab_type": "code",
        "colab": {}
      },
      "source": [
        "# values more than two standard deviations \n",
        "# from the mean are discarded and re-drawn\n",
        "init_instance3 = tf.initializers.truncated_normal(mean=0.0, stddev=1.0)\n",
        "d = init_instance3(shape=(1,6))"
      ],
      "execution_count": 0,
      "outputs": []
    },
    {
      "cell_type": "code",
      "metadata": {
        "id": "6lARYkYvPkOG",
        "colab_type": "code",
        "colab": {}
      },
      "source": [
        "init_instance4 = tf.initializers.identity(gain=1.2)\n",
        "e = init_instance4(shape=(3,3))"
      ],
      "execution_count": 0,
      "outputs": []
    },
    {
      "cell_type": "code",
      "metadata": {
        "id": "SKh0S-BSQsq7",
        "colab_type": "code",
        "colab": {}
      },
      "source": [
        "init_instance4 = tf.initializers.lecun_normal()\n",
        "f = init_instance4(shape=(3,3))"
      ],
      "execution_count": 0,
      "outputs": []
    },
    {
      "cell_type": "markdown",
      "metadata": {
        "id": "9R0EZYSqDndt",
        "colab_type": "text"
      },
      "source": [
        ""
      ]
    },
    {
      "cell_type": "code",
      "metadata": {
        "id": "P2hqb8AfDUvd",
        "colab_type": "code",
        "outputId": "7c533545-20b4-47ba-f89b-a0230e9bdb1c",
        "colab": {
          "base_uri": "https://localhost:8080/",
          "height": 69
        }
      },
      "source": [
        "with tf.Session() as sess:\n",
        "  # print(sess.run(a))\n",
        "  # print(sess.run(b))\n",
        "  # print(sess.run(c))\n",
        "  # print(sess.run(d))\n",
        "  # print(sess.run(e))\n",
        "  print(sess.run(f))"
      ],
      "execution_count": 0,
      "outputs": [
        {
          "output_type": "stream",
          "text": [
            "[[ 0.03034513 -0.55256057  1.0845844 ]\n",
            " [-0.2228791  -0.46838963 -0.8248085 ]\n",
            " [ 0.7543228  -0.18239123 -0.55517966]]\n"
          ],
          "name": "stdout"
        }
      ]
    },
    {
      "cell_type": "code",
      "metadata": {
        "id": "plIxDJJ1DkxM",
        "colab_type": "code",
        "colab": {}
      },
      "source": [
        ""
      ],
      "execution_count": 0,
      "outputs": []
    }
  ]
}