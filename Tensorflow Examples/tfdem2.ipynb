{
  "nbformat": 4,
  "nbformat_minor": 0,
  "metadata": {
    "colab": {
      "name": "tfdem2.ipynb",
      "provenance": [],
      "collapsed_sections": []
    },
    "kernelspec": {
      "name": "python3",
      "display_name": "Python 3"
    }
  },
  "cells": [
    {
      "cell_type": "code",
      "metadata": {
        "id": "dKpfyG--VVFE",
        "colab_type": "code",
        "outputId": "7dd54388-3d40-490c-c746-981160d8f064",
        "colab": {
          "base_uri": "https://localhost:8080/",
          "height": 64
        }
      },
      "source": [
        "import numpy as np\n",
        "import tensorflow as tf"
      ],
      "execution_count": 2,
      "outputs": [
        {
          "output_type": "display_data",
          "data": {
            "text/html": [
              "<p style=\"color: red;\">\n",
              "The default version of TensorFlow in Colab will soon switch to TensorFlow 2.x.<br>\n",
              "We recommend you <a href=\"https://www.tensorflow.org/guide/migrate\" target=\"_blank\">upgrade</a> now \n",
              "or ensure your notebook will continue to use TensorFlow 1.x via the <code>%tensorflow_version 1.x</code> magic:\n",
              "<a href=\"https://colab.research.google.com/notebooks/tensorflow_version.ipynb\" target=\"_blank\">more info</a>.</p>\n"
            ],
            "text/plain": [
              "<IPython.core.display.HTML object>"
            ]
          },
          "metadata": {
            "tags": []
          }
        }
      ]
    },
    {
      "cell_type": "code",
      "metadata": {
        "id": "tLWFX511Vr8N",
        "colab_type": "code",
        "colab": {
          "base_uri": "https://localhost:8080/",
          "height": 191
        },
        "outputId": "3cbd7aed-57d8-4d2a-c0d8-ab532e80913b"
      },
      "source": [
        "arr1 = np.array([([(1, 2, 3), (4, 5, 6)]), ([(7, 8, 9), (11, 12, 16)])], dtype='float32')\n",
        "arr2 = np.array([([(11, 12, 16), (7, 8, 9)]), ([(4, 5, 6), (1, 2, 3)])])\n",
        "arr3 = np.arange(10)\n",
        "print(arr1)\n",
        "print(arr2)"
      ],
      "execution_count": 56,
      "outputs": [
        {
          "output_type": "stream",
          "text": [
            "[[[ 1.  2.  3.]\n",
            "  [ 4.  5.  6.]]\n",
            "\n",
            " [[ 7.  8.  9.]\n",
            "  [11. 12. 16.]]]\n",
            "[[[11 12 16]\n",
            "  [ 7  8  9]]\n",
            "\n",
            " [[ 4  5  6]\n",
            "  [ 1  2  3]]]\n"
          ],
          "name": "stdout"
        }
      ]
    },
    {
      "cell_type": "code",
      "metadata": {
        "id": "PL_G3SpOYqfP",
        "colab_type": "code",
        "colab": {}
      },
      "source": [
        "a0 = tf.constant(value=arr1, dtype='float32')\n",
        "b0 = tf.constant(value=arr2)\n",
        "a = tf.Variable(initial_value=arr1, name=\"a\", validate_shape=True)\n",
        "b = tf.Variable(initial_value=arr2, name=\"b\", validate_shape=False)"
      ],
      "execution_count": 0,
      "outputs": []
    },
    {
      "cell_type": "code",
      "metadata": {
        "id": "cPQm9O1XZDTj",
        "colab_type": "code",
        "outputId": "a30626bc-a92b-4946-fb46-2441cbec59e0",
        "colab": {
          "base_uri": "https://localhost:8080/",
          "height": 104
        }
      },
      "source": [
        "print(a.shape)\n",
        "print(a.dtype)\n",
        "print(a.graph)\n",
        "print(a.initial_value)\n",
        "print(a.name)\n",
        "# print(a.op)"
      ],
      "execution_count": 5,
      "outputs": [
        {
          "output_type": "stream",
          "text": [
            "(2, 2, 3)\n",
            "<dtype: 'int64_ref'>\n",
            "<tensorflow.python.framework.ops.Graph object at 0x7f200cd64eb8>\n",
            "Tensor(\"a/initial_value:0\", shape=(2, 2, 3), dtype=int64)\n",
            "a:0\n"
          ],
          "name": "stdout"
        }
      ]
    },
    {
      "cell_type": "code",
      "metadata": {
        "id": "ORQKmdRIZGXV",
        "colab_type": "code",
        "colab": {
          "base_uri": "https://localhost:8080/",
          "height": 52
        },
        "outputId": "8efdad69-c04d-4935-a0cc-ee4b23a8b55f"
      },
      "source": [
        "mat1 = np.array([(1, 2, 3), (4, 5, 6)])\n",
        "mat2 = np.array([(1, 2), (3, 4), (5, 6)])\n",
        "mat3 = mat1 @ mat2\n",
        "print(mat3)\n",
        "c = tf.matmul(a=mat1, b=mat2, name=\"MatrixMultiplication1\")\n",
        "d = tf.matmul(a=mat2, b=mat1, name=\"MatrixMultiplication2\")"
      ],
      "execution_count": 41,
      "outputs": [
        {
          "output_type": "stream",
          "text": [
            "[[22 28]\n",
            " [49 64]]\n"
          ],
          "name": "stdout"
        }
      ]
    },
    {
      "cell_type": "code",
      "metadata": {
        "id": "Nf2XC6Kjts1V",
        "colab_type": "code",
        "colab": {}
      },
      "source": [
        "# Will not run when we use variables a and b instead of constants\n",
        "e = tf.concat(values=[a0, b0], axis=0)\n",
        "f = tf.concat(values=[arr1, arr2], axis=1)\n",
        "g = tf.concat(values=[arr1, arr2], axis=2)"
      ],
      "execution_count": 0,
      "outputs": []
    },
    {
      "cell_type": "code",
      "metadata": {
        "id": "xdSy4lko2YwX",
        "colab_type": "code",
        "colab": {}
      },
      "source": [
        "arr4 = np.array([1, 2, 4], dtype='float32')\n",
        "\n",
        "# does not work with variables\n",
        "h = tf.constant(value=arr4)\n",
        "\n",
        "# works well for arrays and 1D tensors\n",
        "i = tf.norm(arr4)\n",
        "j = tf.norm(h)\n",
        "\n",
        "# works well with 2D arrays and tensors\n",
        "k = tf.norm(arr1)\n",
        "l = tf.norm(a0)"
      ],
      "execution_count": 0,
      "outputs": []
    },
    {
      "cell_type": "code",
      "metadata": {
        "id": "BiE8tnPVDZw3",
        "colab_type": "code",
        "colab": {}
      },
      "source": [
        "m = tf.linspace(start=60.0, stop=72.0, num=7)\n",
        "m0 = tf.linspace(start=0.0, stop=10.0, num=11)\n",
        "m1 = np.arange(10)\n",
        "\n",
        "# Given N one-dimensional coordinate arrays *args,\n",
        "# returns a list outputs of N-D coordinate arrays \n",
        "# for evaluating expressions on an N-D grid.\n",
        "n = tf.meshgrid(m1, m1)\n",
        "o = tf.meshgrid(m0, m0)"
      ],
      "execution_count": 0,
      "outputs": []
    },
    {
      "cell_type": "code",
      "metadata": {
        "id": "-ClnOoP6H2Bw",
        "colab_type": "code",
        "colab": {
          "base_uri": "https://localhost:8080/",
          "height": 104
        },
        "outputId": "c5d26da2-9be7-463e-f616-8d0eec4dc1f5"
      },
      "source": [
        "print(b0.shape)\n",
        "b00 = tf.reshape(b0, (1, 2, 6))\n",
        "b01 = tf.reshape(b0, [-1])\n",
        "b02 = tf.reshape(b0, [1, 4, 3])\n",
        "print(b0.shape)\n",
        "print(b00.shape)\n",
        "print(b01.shape)\n",
        "print(b02.shape)"
      ],
      "execution_count": 107,
      "outputs": [
        {
          "output_type": "stream",
          "text": [
            "(2, 2, 3)\n",
            "(2, 2, 3)\n",
            "(1, 2, 6)\n",
            "(12,)\n",
            "(1, 4, 3)\n"
          ],
          "name": "stdout"
        }
      ]
    },
    {
      "cell_type": "code",
      "metadata": {
        "id": "yZDMbzRRPmYM",
        "colab_type": "code",
        "colab": {
          "base_uri": "https://localhost:8080/",
          "height": 35
        },
        "outputId": "5ca5dbbc-60d2-40c1-f5a5-b5d98b1abe3f"
      },
      "source": [
        "def tanh_sigmoid(x):\n",
        "  return np.tanh(x)\n",
        "\n",
        "tanh_sigmoid([1, 2, 3])\n",
        "# p = tf.numpy_function(func=tanh_sigmoid, inp=[[1, 2, 3]], Tout='double')"
      ],
      "execution_count": 121,
      "outputs": [
        {
          "output_type": "execute_result",
          "data": {
            "text/plain": [
              "array([0.76159416, 0.96402758, 0.99505475])"
            ]
          },
          "metadata": {
            "tags": []
          },
          "execution_count": 121
        }
      ]
    },
    {
      "cell_type": "code",
      "metadata": {
        "id": "aQ0P-3T1ZMH4",
        "colab_type": "code",
        "outputId": "d195ec6c-aa20-46cc-f100-15dce41fe868",
        "colab": {
          "base_uri": "https://localhost:8080/",
          "height": 35
        }
      },
      "source": [
        "with tf.Session() as sess:\n",
        "  # print(sess.run(b0))\n",
        "  # print(sess.run(b01))\n",
        "  # print(sess.run(b02))\n",
        "  # print(sess.run(b00))\n",
        "  # print(sess.run(c))\n",
        "  # print(sess.run(d))\n",
        "  # print(sess.run(e))\n",
        "  # print(sess.run(f))\n",
        "  # print(sess.run(g))\n",
        "  # print(sess.run(h))\n",
        "  # print(sess.run(i))\n",
        "  # print(sess.run(j))\n",
        "  # print(sess.run(k))\n",
        "  # print(sess.run(l))\n",
        "  # print(sess.run(m))\n",
        "  # print(sess.run(n))\n",
        "  # print(sess.run(o))\n",
        "  print(sess.run(p))"
      ],
      "execution_count": 120,
      "outputs": [
        {
          "output_type": "stream",
          "text": [
            "[0.76159416 0.96402758 0.99505475]\n"
          ],
          "name": "stdout"
        }
      ]
    },
    {
      "cell_type": "code",
      "metadata": {
        "id": "Etv7Zc4y7HLV",
        "colab_type": "code",
        "colab": {}
      },
      "source": [
        ""
      ],
      "execution_count": 0,
      "outputs": []
    }
  ]
}