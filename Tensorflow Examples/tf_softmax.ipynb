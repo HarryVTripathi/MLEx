{
  "nbformat": 4,
  "nbformat_minor": 0,
  "metadata": {
    "colab": {
      "name": "tf_softmax.ipynb",
      "provenance": [],
      "collapsed_sections": []
    },
    "kernelspec": {
      "name": "python3",
      "display_name": "Python 3"
    }
  },
  "cells": [
    {
      "cell_type": "code",
      "metadata": {
        "id": "d3dgWRusINve",
        "colab_type": "code",
        "outputId": "66d118ae-7d70-4bdb-e2f4-e52b72183716",
        "colab": {
          "base_uri": "https://localhost:8080/",
          "height": 64
        }
      },
      "source": [
        "import tensorflow as tf\n",
        "import numpy as np"
      ],
      "execution_count": 0,
      "outputs": [
        {
          "output_type": "display_data",
          "data": {
            "text/html": [
              "<p style=\"color: red;\">\n",
              "The default version of TensorFlow in Colab will soon switch to TensorFlow 2.x.<br>\n",
              "We recommend you <a href=\"https://www.tensorflow.org/guide/migrate\" target=\"_blank\">upgrade</a> now \n",
              "or ensure your notebook will continue to use TensorFlow 1.x via the <code>%tensorflow_version 1.x</code> magic:\n",
              "<a href=\"https://colab.research.google.com/notebooks/tensorflow_version.ipynb\" target=\"_blank\">more info</a>.</p>\n"
            ],
            "text/plain": [
              "<IPython.core.display.HTML object>"
            ]
          },
          "metadata": {
            "tags": []
          }
        }
      ]
    },
    {
      "cell_type": "code",
      "metadata": {
        "id": "7H8Wkd6zQMcf",
        "colab_type": "code",
        "colab": {}
      },
      "source": [
        "# Each row of labels should be valid probability dist\n",
        "labels1 = np.array([0, 1, 2, 3, 4, 5])\n",
        "labels2 = np.random.randint(low=0, high=2, size=60)\n",
        "\n",
        "logits1 = np.array(object=[1, 2, 3, 4, 5, 6], dtype='float32')\n",
        "logits2 = np.random.random(size=(10,6))"
      ],
      "execution_count": 0,
      "outputs": []
    },
    {
      "cell_type": "code",
      "metadata": {
        "id": "80UPw-mmdEmq",
        "colab_type": "code",
        "colab": {}
      },
      "source": [
        "# Implementing softmax function with numpy\n",
        "smx1 = tf.nn.softmax(logits=logits1)\n",
        "\n",
        "def mySoftmax(logits):\n",
        "  exps = np.exp(logits)\n",
        "  smx = exps/np.sum(exps)\n",
        "  return smx\n",
        "\n",
        "smx2 = mySoftmax(logits1)"
      ],
      "execution_count": 0,
      "outputs": []
    },
    {
      "cell_type": "code",
      "metadata": {
        "id": "OnyCs-laeYMN",
        "colab_type": "code",
        "colab": {}
      },
      "source": [
        "smx3 = tf.nn.softmax_cross_entropy_with_logits_v2(labels=labels1, logits=logits1)\n",
        "# logits and labels must have same shape?\n",
        "labels1 = labels1.reshape((2,3))\n",
        "logits1 = logits1.reshape((2,3))\n",
        "smx4 = tf.nn.softmax_cross_entropy_with_logits_v2(labels=labels2, logits=logits2)"
      ],
      "execution_count": 0,
      "outputs": []
    },
    {
      "cell_type": "code",
      "metadata": {
        "id": "os8Kd6hIHCkr",
        "colab_type": "code",
        "colab": {}
      },
      "source": [
        "labels2 = labels2.reshape((10,6))\n",
        "unnormalized_log_probs = logits2\n",
        "smx_logits = tf.nn.softmax(unnormalized_log_probs)\n",
        "loss_per_instance = -tf.reduce_sum(labels2 * tf.log(smx_logits), axis=1)\n",
        "total_loss = tf.reduce_mean(loss_per_instance)"
      ],
      "execution_count": 0,
      "outputs": []
    },
    {
      "cell_type": "code",
      "metadata": {
        "id": "FfWKOMq2dL-5",
        "colab_type": "code",
        "outputId": "33b66b7f-964e-423f-8b35-541c9a8a6283",
        "colab": {
          "base_uri": "https://localhost:8080/",
          "height": 87
        }
      },
      "source": [
        "\n",
        "with tf.Session() as sess:\n",
        "  # print(sess.run(smx1))\n",
        "  # print(smx2)\n",
        "  # print(sess.run(smx3))\n",
        "  print(sess.run(smx4))\n",
        "  # print(sess.run(smx_logits))\n",
        "  print(sess.run(loss_per_instance))"
      ],
      "execution_count": 0,
      "outputs": [
        {
          "output_type": "stream",
          "text": [
            "[3.60215772 3.91384102 5.43530934 3.24741855 3.70011353 5.55012575\n",
            " 5.48809296 3.84010254 1.38412456 8.87032928]\n",
            "[3.60215772 3.91384102 5.43530934 3.24741855 3.70011353 5.55012575\n",
            " 5.48809296 3.84010254 1.38412456 8.87032928]\n"
          ],
          "name": "stdout"
        }
      ]
    },
    {
      "cell_type": "code",
      "metadata": {
        "id": "cDSMAGtsdpP2",
        "colab_type": "code",
        "colab": {}
      },
      "source": [
        ""
      ],
      "execution_count": 0,
      "outputs": []
    }
  ]
}