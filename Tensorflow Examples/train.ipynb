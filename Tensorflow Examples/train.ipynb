{
 "cells": [
  {
   "cell_type": "code",
   "execution_count": 1,
   "metadata": {
    "colab": {},
    "colab_type": "code",
    "id": "yO8lE7ad1Vxj"
   },
   "outputs": [],
   "source": [
    "import pandas as pd\n",
    "import pickle\n",
    "from sklearn.feature_extraction.text import CountVectorizer"
   ]
  },
  {
   "cell_type": "code",
   "execution_count": 3,
   "metadata": {
    "colab": {},
    "colab_type": "code",
    "id": "XRM3qDxw1Vxy"
   },
   "outputs": [],
   "source": [
    "with open('C:\\\\Users\\\\Harry\\\\Documents\\\\DS\\\\Datasets\\\\senti_set\\\\dataset\\\\sentences_list.pkl', 'rb') as f:\n",
    "    sentences = pickle.load(f)\n",
    "    \n",
    "with open('C:\\\\Users\\\\Harry\\\\Documents\\\\DS\\\\Datasets\\\\senti_set\\\\dataset\\\\categories_list.pkl', 'rb') as f:\n",
    "    categories = pickle.load(f)"
   ]
  },
  {
   "cell_type": "markdown",
   "metadata": {
    "colab_type": "text",
    "id": "TGrJGlU81Vx9"
   },
   "source": [
    "### Preprocessing"
   ]
  },
  {
   "cell_type": "code",
   "execution_count": 4,
   "metadata": {
    "colab": {},
    "colab_type": "code",
    "id": "EPdsJsO-1VyA"
   },
   "outputs": [],
   "source": [
    "def lowercase(sentences):\n",
    "    for i in range(len(sentences)):\n",
    "        sentences[i] = sentences[i].lower()"
   ]
  },
  {
   "cell_type": "code",
   "execution_count": 5,
   "metadata": {
    "colab": {},
    "colab_type": "code",
    "id": "CjFmqqqm1VyL"
   },
   "outputs": [],
   "source": [
    "import re\n",
    "def remove_numbers(sentences):\n",
    "    for i in range(len(sentences)):\n",
    "        sentences[i] = re.sub(r'\\d+', ' NUMBER ', sentences[i])"
   ]
  },
  {
   "cell_type": "code",
   "execution_count": 6,
   "metadata": {
    "colab": {},
    "colab_type": "code",
    "id": "wMHVMRI-1VyT"
   },
   "outputs": [],
   "source": [
    "import string\n",
    "translator = str.maketrans('', '', string.punctuation)\n",
    "def remove_punctuations(sentences):\n",
    "    for i in range(len(sentences)):\n",
    "        sentences[i] = sentences[i].translate(translator)"
   ]
  },
  {
   "cell_type": "code",
   "execution_count": 7,
   "metadata": {
    "colab": {},
    "colab_type": "code",
    "id": "lrGxMsl11Vyb"
   },
   "outputs": [],
   "source": [
    "def remove_whitespaces(sentences):\n",
    "    for i in range(len(sentences)):\n",
    "        sentences[i] = sentences[i].strip()"
   ]
  },
  {
   "cell_type": "code",
   "execution_count": 8,
   "metadata": {
    "colab": {
     "base_uri": "https://localhost:8080/",
     "height": 121
    },
    "colab_type": "code",
    "executionInfo": {
     "elapsed": 2073,
     "status": "ok",
     "timestamp": 1572884259200,
     "user": {
      "displayName": "SHREYANSH SINGH",
      "photoUrl": "https://lh3.googleusercontent.com/a-/AAuE7mBnbm24g7A_NVsEzEaLktAvhEbQJUpVaee9WZEV=s64",
      "userId": "13637235420111287831"
     },
     "user_tz": -330
    },
    "id": "zf1EOof31Vyh",
    "outputId": "5f8b0c84-b54c-4adb-9842-68a74299122e"
   },
   "outputs": [],
   "source": [
    "import nltk\n",
    "#nltk.download('punkt')\n",
    "#nltk.download('stopwords')\n",
    "#nltk.download('wordnet')\n",
    "from nltk.corpus import stopwords\n",
    "from nltk.tokenize import word_tokenize\n",
    "sw = stopwords.words(\"english\")\n",
    "def remove_stopwords_tokenize(sentences):\n",
    "    for i in range(len(sentences)):\n",
    "        tokens = word_tokenize(sentences[i])\n",
    "        sentences[i] = [j for j in tokens if not j in sw]"
   ]
  },
  {
   "cell_type": "code",
   "execution_count": 9,
   "metadata": {
    "colab": {},
    "colab_type": "code",
    "id": "YshxkC5N1Vyp"
   },
   "outputs": [],
   "source": [
    "from nltk.stem import WordNetLemmatizer\n",
    "lemmatizer = WordNetLemmatizer()\n",
    "def lemmatize(sentences):\n",
    "    for i in range(len(sentences)):\n",
    "        for j in range(len(sentences[i])):\n",
    "            sentences[i][j] = lemmatizer.lemmatize(sentences[i][j])"
   ]
  },
  {
   "cell_type": "code",
   "execution_count": 10,
   "metadata": {
    "colab": {},
    "colab_type": "code",
    "id": "LIHOeAQz1Vyx"
   },
   "outputs": [],
   "source": [
    "def preprocess(sentences):\n",
    "    lowercase(sentences)\n",
    "    remove_punctuations(sentences)\n",
    "    remove_numbers(sentences)\n",
    "    remove_whitespaces(sentences)\n",
    "    remove_stopwords_tokenize(sentences)\n",
    "    lemmatize(sentences)"
   ]
  },
  {
   "cell_type": "code",
   "execution_count": 11,
   "metadata": {
    "colab": {},
    "colab_type": "code",
    "id": "zaeKC1Ru1Vy5"
   },
   "outputs": [],
   "source": [
    "preprocess(sentences)"
   ]
  },
  {
   "cell_type": "code",
   "execution_count": 12,
   "metadata": {
    "colab": {
     "base_uri": "https://localhost:8080/",
     "height": 34
    },
    "colab_type": "code",
    "executionInfo": {
     "elapsed": 19468,
     "status": "ok",
     "timestamp": 1572884276645,
     "user": {
      "displayName": "SHREYANSH SINGH",
      "photoUrl": "https://lh3.googleusercontent.com/a-/AAuE7mBnbm24g7A_NVsEzEaLktAvhEbQJUpVaee9WZEV=s64",
      "userId": "13637235420111287831"
     },
     "user_tz": -330
    },
    "id": "LQVT16Lo1VzB",
    "outputId": "520d43bb-1874-4fd4-a3db-aeeeb3f9e51d"
   },
   "outputs": [
    {
     "data": {
      "text/plain": [
       "['went', 'gym', 'morning', 'yoga']"
      ]
     },
     "execution_count": 12,
     "metadata": {},
     "output_type": "execute_result"
    }
   ],
   "source": [
    "sentences[2]"
   ]
  },
  {
   "cell_type": "code",
   "execution_count": 13,
   "metadata": {
    "colab": {
     "base_uri": "https://localhost:8080/",
     "height": 34
    },
    "colab_type": "code",
    "executionInfo": {
     "elapsed": 19453,
     "status": "ok",
     "timestamp": 1572884276646,
     "user": {
      "displayName": "SHREYANSH SINGH",
      "photoUrl": "https://lh3.googleusercontent.com/a-/AAuE7mBnbm24g7A_NVsEzEaLktAvhEbQJUpVaee9WZEV=s64",
      "userId": "13637235420111287831"
     },
     "user_tz": -330
    },
    "id": "lxPZLh3W1VzJ",
    "outputId": "f9c61db6-f18a-43ca-86ae-a97c80aac000"
   },
   "outputs": [
    {
     "data": {
      "text/plain": [
       "'went successful date someone felt sympathy connection'"
      ]
     },
     "execution_count": 13,
     "metadata": {},
     "output_type": "execute_result"
    }
   ],
   "source": [
    "sentences_copy = []\n",
    "for i in sentences:\n",
    "    sentences_copy.append(' '.join(i))\n",
    "sentences_copy[0]"
   ]
  },
  {
   "cell_type": "code",
   "execution_count": 14,
   "metadata": {
    "colab": {
     "base_uri": "https://localhost:8080/",
     "height": 121
    },
    "colab_type": "code",
    "executionInfo": {
     "elapsed": 19436,
     "status": "ok",
     "timestamp": 1572884276647,
     "user": {
      "displayName": "SHREYANSH SINGH",
      "photoUrl": "https://lh3.googleusercontent.com/a-/AAuE7mBnbm24g7A_NVsEzEaLktAvhEbQJUpVaee9WZEV=s64",
      "userId": "13637235420111287831"
     },
     "user_tz": -330
    },
    "id": "zgqx51eI1VzQ",
    "outputId": "02bad3fd-5782-416d-a64c-a1b36cf57c18"
   },
   "outputs": [
    {
     "data": {
      "text/plain": [
       "CountVectorizer(analyzer='word', binary=False, decode_error='strict',\n",
       "        dtype=<class 'numpy.int64'>, encoding='utf-8', input='content',\n",
       "        lowercase=False, max_df=1.0, max_features=None, min_df=0,\n",
       "        ngram_range=(1, 1), preprocessor=None, stop_words=None,\n",
       "        strip_accents=None, token_pattern='(?u)\\\\b\\\\w\\\\w+\\\\b',\n",
       "        tokenizer=None, vocabulary=None)"
      ]
     },
     "execution_count": 14,
     "metadata": {},
     "output_type": "execute_result"
    }
   ],
   "source": [
    "vectorizer = CountVectorizer(min_df=0, lowercase=False)\n",
    "vectorizer.fit(sentences_copy)"
   ]
  },
  {
   "cell_type": "code",
   "execution_count": 15,
   "metadata": {
    "colab": {},
    "colab_type": "code",
    "id": "QIqeKzPs1VzW"
   },
   "outputs": [],
   "source": [
    "a = vectorizer.vocabulary_\n",
    "b = []\n",
    "for i in a.keys():\n",
    "    b.append((a[i], i))\n",
    "b.sort()"
   ]
  },
  {
   "cell_type": "code",
   "execution_count": 16,
   "metadata": {
    "colab": {
     "base_uri": "https://localhost:8080/",
     "height": 34
    },
    "colab_type": "code",
    "executionInfo": {
     "elapsed": 19415,
     "status": "ok",
     "timestamp": 1572884276651,
     "user": {
      "displayName": "SHREYANSH SINGH",
      "photoUrl": "https://lh3.googleusercontent.com/a-/AAuE7mBnbm24g7A_NVsEzEaLktAvhEbQJUpVaee9WZEV=s64",
      "userId": "13637235420111287831"
     },
     "user_tz": -330
    },
    "id": "SZRSil18DMP0",
    "outputId": "52a0d89e-697a-411c-8bbc-82a1b5421b9e"
   },
   "outputs": [
    {
     "data": {
      "text/plain": [
       "18724"
      ]
     },
     "execution_count": 16,
     "metadata": {},
     "output_type": "execute_result"
    }
   ],
   "source": [
    "count = 0\n",
    "for i in a.keys():\n",
    "  count += 1\n",
    "\n",
    "count"
   ]
  },
  {
   "cell_type": "code",
   "execution_count": 17,
   "metadata": {
    "colab": {},
    "colab_type": "code",
    "id": "Aqime5TT6dDq"
   },
   "outputs": [],
   "source": [
    "import numpy as np\n",
    "MAX_LEN = 15\n",
    "sent_vectors = np.zeros((83643, MAX_LEN))\n",
    "\n",
    "for id, sent in enumerate(sentences):\n",
    "  for i, word in enumerate(sent):\n",
    "    try:\n",
    "      sent_vectors[id][i] = a[word]\n",
    "    except:\n",
    "      pass"
   ]
  },
  {
   "cell_type": "code",
   "execution_count": 18,
   "metadata": {
    "colab": {
     "base_uri": "https://localhost:8080/",
     "height": 52
    },
    "colab_type": "code",
    "executionInfo": {
     "elapsed": 20451,
     "status": "ok",
     "timestamp": 1572884277713,
     "user": {
      "displayName": "SHREYANSH SINGH",
      "photoUrl": "https://lh3.googleusercontent.com/a-/AAuE7mBnbm24g7A_NVsEzEaLktAvhEbQJUpVaee9WZEV=s64",
      "userId": "13637235420111287831"
     },
     "user_tz": -330
    },
    "id": "p87yOOUB1Vzb",
    "outputId": "690a7560-2d7c-4340-dac7-3da1e2fea117"
   },
   "outputs": [
    {
     "data": {
      "text/plain": [
       "array([18220., 16094.,  4080., 15400.,  5945., 16343.,  3432.,     0.,\n",
       "           0.,     0.,     0.,     0.,     0.,     0.,     0.])"
      ]
     },
     "execution_count": 18,
     "metadata": {},
     "output_type": "execute_result"
    }
   ],
   "source": [
    "sent_vectors[0]"
   ]
  },
  {
   "cell_type": "code",
   "execution_count": 0,
   "metadata": {
    "colab": {},
    "colab_type": "code",
    "id": "LfvtoxVJ4Sik"
   },
   "outputs": [],
   "source": [
    "# with open('/content/drive/My Drive/NLP - UT/vect_sentences.pkl', 'wb') as f:\n",
    "#   pickle.dump(sent_vectors, f, protocol=4)"
   ]
  },
  {
   "cell_type": "code",
   "execution_count": 19,
   "metadata": {
    "colab": {
     "base_uri": "https://localhost:8080/",
     "height": 64
    },
    "colab_type": "code",
    "executionInfo": {
     "elapsed": 21453,
     "status": "ok",
     "timestamp": 1572884278739,
     "user": {
      "displayName": "SHREYANSH SINGH",
      "photoUrl": "https://lh3.googleusercontent.com/a-/AAuE7mBnbm24g7A_NVsEzEaLktAvhEbQJUpVaee9WZEV=s64",
      "userId": "13637235420111287831"
     },
     "user_tz": -330
    },
    "id": "SHp8-BXC4wWt",
    "outputId": "6cdd5b66-c1c5-426b-da81-d0b656b366e3"
   },
   "outputs": [
    {
     "ename": "ModuleNotFoundError",
     "evalue": "No module named 'tensorflow'",
     "output_type": "error",
     "traceback": [
      "\u001b[1;31m---------------------------------------------------------------------------\u001b[0m",
      "\u001b[1;31mModuleNotFoundError\u001b[0m                       Traceback (most recent call last)",
      "\u001b[1;32m<ipython-input-19-64156d691fe5>\u001b[0m in \u001b[0;36m<module>\u001b[1;34m()\u001b[0m\n\u001b[1;32m----> 1\u001b[1;33m \u001b[1;32mimport\u001b[0m \u001b[0mtensorflow\u001b[0m \u001b[1;32mas\u001b[0m \u001b[0mtf\u001b[0m\u001b[1;33m\u001b[0m\u001b[0m\n\u001b[0m",
      "\u001b[1;31mModuleNotFoundError\u001b[0m: No module named 'tensorflow'"
     ]
    }
   ],
   "source": [
    "import tensorflow as tf"
   ]
  },
  {
   "cell_type": "code",
   "execution_count": 0,
   "metadata": {
    "colab": {},
    "colab_type": "code",
    "id": "rfbmff8j_ikv"
   },
   "outputs": [],
   "source": [
    "from keras import models\n",
    "from keras.layers import Dense, Dropout, Embedding, LSTM, TimeDistributed, SpatialDropout1D\n",
    "from keras.utils import to_categorical\n",
    "from keras.datasets import mnist\n",
    "from keras.utils.vis_utils import model_to_dot\n",
    "\n",
    "# model = models.Sequential()\n",
    "# model.add(Dense(512, activation='relu', input_shape=(30,)))\n",
    "# model.add(Dropout(0.5))\n",
    "# model.add(Dense(256, activation='relu'))\n",
    "# model.add(Dropout(0.25))\n",
    "# model.add(Dense(7, activation='softmax'))\n",
    "use_dropout = True\n",
    "model = models.Sequential()\n",
    "model.add(Embedding(18724, 300, input_length=MAX_LEN))\n",
    "model.add(SpatialDropout1D(0.7))\n",
    "model.add(LSTM(150, dropout=0.7, recurrent_dropout=0.7, return_sequences=True))\n",
    "model.add(LSTM(75, dropout=0.7, recurrent_dropout=0.7))\n",
    "model.add(Dense(7, activation='softmax'))"
   ]
  },
  {
   "cell_type": "code",
   "execution_count": 0,
   "metadata": {
    "colab": {},
    "colab_type": "code",
    "id": "k8ZYOs7lbUu1"
   },
   "outputs": [],
   "source": [
    "from keras import models\n",
    "from keras.layers import Dense, Dropout, Embedding, LSTM, TimeDistributed, SpatialDropout1D, Bidirectional\n",
    "from keras.utils import to_categorical\n",
    "from keras.datasets import mnist\n",
    "from keras.utils.vis_utils import model_to_dot\n",
    "\n",
    "# model = models.Sequential()\n",
    "# model.add(Dense(512, activation='relu', input_shape=(30,)))\n",
    "# model.add(Dropout(0.5))\n",
    "# model.add(Dense(256, activation='relu'))\n",
    "# model.add(Dropout(0.25))\n",
    "# model.add(Dense(7, activation='softmax'))\n",
    "use_dropout = True\n",
    "model = models.Sequential()\n",
    "model.add(Embedding(18724, 300, input_length=MAX_LEN))\n",
    "model.add(SpatialDropout1D(0.7))\n",
    "model.add(Bidirectional(LSTM(150, dropout=0.7, recurrent_dropout=0.7)))\n",
    "model.add(Dropout(0.5))\n",
    "model.add(Dense(7, activation='softmax'))"
   ]
  },
  {
   "cell_type": "code",
   "execution_count": 0,
   "metadata": {
    "colab": {},
    "colab_type": "code",
    "id": "8dd2yKM9AgIA"
   },
   "outputs": [],
   "source": [
    "NUM_CLASSES = 7\n",
    "x_train = sent_vectors[:67644, :]\n",
    "x_test = sent_vectors[67644:, :]\n",
    "categories = np.asarray(categories)\n",
    "y_train = categories[:67644]\n",
    "y_test = categories[67644:]\n",
    "\n",
    "y_train = to_categorical(y_train, NUM_CLASSES)\n",
    "y_test = to_categorical(y_test, NUM_CLASSES)"
   ]
  },
  {
   "cell_type": "code",
   "execution_count": 25,
   "metadata": {
    "colab": {
     "base_uri": "https://localhost:8080/",
     "height": 34
    },
    "colab_type": "code",
    "executionInfo": {
     "elapsed": 688,
     "status": "ok",
     "timestamp": 1572884582353,
     "user": {
      "displayName": "SHREYANSH SINGH",
      "photoUrl": "https://lh3.googleusercontent.com/a-/AAuE7mBnbm24g7A_NVsEzEaLktAvhEbQJUpVaee9WZEV=s64",
      "userId": "13637235420111287831"
     },
     "user_tz": -330
    },
    "id": "DH6NZaMbBQw-",
    "outputId": "912b9f33-4e9e-4ffa-a76e-3e6c3873943d"
   },
   "outputs": [
    {
     "data": {
      "text/plain": [
       "array([0., 0., 0., 0., 0., 0., 1.], dtype=float32)"
      ]
     },
     "execution_count": 25,
     "metadata": {
      "tags": []
     },
     "output_type": "execute_result"
    }
   ],
   "source": [
    "y_train[2]"
   ]
  },
  {
   "cell_type": "code",
   "execution_count": 35,
   "metadata": {
    "colab": {
     "base_uri": "https://localhost:8080/",
     "height": 676
    },
    "colab_type": "code",
    "executionInfo": {
     "elapsed": 381263,
     "status": "error",
     "timestamp": 1572888474489,
     "user": {
      "displayName": "SHREYANSH SINGH",
      "photoUrl": "https://lh3.googleusercontent.com/a-/AAuE7mBnbm24g7A_NVsEzEaLktAvhEbQJUpVaee9WZEV=s64",
      "userId": "13637235420111287831"
     },
     "user_tz": -330
    },
    "id": "EJuAt1UTBtbo",
    "outputId": "b51b5804-2aca-4750-eb15-fd99bf03c648"
   },
   "outputs": [
    {
     "name": "stdout",
     "output_type": "stream",
     "text": [
      "Train on 67644 samples, validate on 15999 samples\n",
      "Epoch 1/50\n",
      "67644/67644 [==============================] - 47s 690us/step - loss: 0.9619 - acc: 0.6584 - val_loss: 0.7206 - val_acc: 0.7490\n",
      "Epoch 2/50\n",
      "67644/67644 [==============================] - 42s 623us/step - loss: 0.7180 - acc: 0.7551 - val_loss: 0.7050 - val_acc: 0.7589\n",
      "Epoch 3/50\n",
      "67644/67644 [==============================] - 42s 616us/step - loss: 0.6536 - acc: 0.7781 - val_loss: 0.7193 - val_acc: 0.7657\n",
      "Epoch 4/50\n",
      "67644/67644 [==============================] - 42s 626us/step - loss: 0.6188 - acc: 0.7907 - val_loss: 0.7348 - val_acc: 0.7657\n",
      "Epoch 5/50\n",
      "67644/67644 [==============================] - 42s 628us/step - loss: 0.5955 - acc: 0.7976 - val_loss: 0.7521 - val_acc: 0.7665\n",
      "Epoch 6/50\n",
      "67644/67644 [==============================] - 42s 627us/step - loss: 0.5826 - acc: 0.8018 - val_loss: 0.7798 - val_acc: 0.7661\n",
      "Epoch 7/50\n",
      "67644/67644 [==============================] - 42s 624us/step - loss: 0.5716 - acc: 0.8070 - val_loss: 0.8107 - val_acc: 0.7626\n",
      "Epoch 8/50\n",
      "67644/67644 [==============================] - 42s 627us/step - loss: 0.5587 - acc: 0.8126 - val_loss: 0.8547 - val_acc: 0.7594\n",
      "Epoch 9/50\n",
      "49024/67644 [====================>.........] - ETA: 10s - loss: 0.5534 - acc: 0.8132"
     ]
    },
    {
     "ename": "KeyboardInterrupt",
     "evalue": "ignored",
     "output_type": "error",
     "traceback": [
      "\u001b[0;31m---------------------------------------------------------------------------\u001b[0m",
      "\u001b[0;31mKeyboardInterrupt\u001b[0m                         Traceback (most recent call last)",
      "\u001b[0;32m<ipython-input-35-5baec5fce029>\u001b[0m in \u001b[0;36m<module>\u001b[0;34m()\u001b[0m\n\u001b[1;32m     15\u001b[0m           \u001b[0mcallbacks\u001b[0m\u001b[0;34m=\u001b[0m\u001b[0;34m[\u001b[0m\u001b[0mmcp\u001b[0m\u001b[0;34m]\u001b[0m\u001b[0;34m,\u001b[0m\u001b[0;34m\u001b[0m\u001b[0;34m\u001b[0m\u001b[0m\n\u001b[1;32m     16\u001b[0m           \u001b[0mverbose\u001b[0m\u001b[0;34m=\u001b[0m\u001b[0;36m1\u001b[0m\u001b[0;34m,\u001b[0m\u001b[0;34m\u001b[0m\u001b[0;34m\u001b[0m\u001b[0m\n\u001b[0;32m---> 17\u001b[0;31m           validation_data=(x_test, y_test))\n\u001b[0m",
      "\u001b[0;32m/usr/local/lib/python3.6/dist-packages/keras/engine/training.py\u001b[0m in \u001b[0;36mfit\u001b[0;34m(self, x, y, batch_size, epochs, verbose, callbacks, validation_split, validation_data, shuffle, class_weight, sample_weight, initial_epoch, steps_per_epoch, validation_steps, validation_freq, max_queue_size, workers, use_multiprocessing, **kwargs)\u001b[0m\n\u001b[1;32m   1176\u001b[0m                                         \u001b[0msteps_per_epoch\u001b[0m\u001b[0;34m=\u001b[0m\u001b[0msteps_per_epoch\u001b[0m\u001b[0;34m,\u001b[0m\u001b[0;34m\u001b[0m\u001b[0;34m\u001b[0m\u001b[0m\n\u001b[1;32m   1177\u001b[0m                                         \u001b[0mvalidation_steps\u001b[0m\u001b[0;34m=\u001b[0m\u001b[0mvalidation_steps\u001b[0m\u001b[0;34m,\u001b[0m\u001b[0;34m\u001b[0m\u001b[0;34m\u001b[0m\u001b[0m\n\u001b[0;32m-> 1178\u001b[0;31m                                         validation_freq=validation_freq)\n\u001b[0m\u001b[1;32m   1179\u001b[0m \u001b[0;34m\u001b[0m\u001b[0m\n\u001b[1;32m   1180\u001b[0m     def evaluate(self,\n",
      "\u001b[0;32m/usr/local/lib/python3.6/dist-packages/keras/engine/training_arrays.py\u001b[0m in \u001b[0;36mfit_loop\u001b[0;34m(model, fit_function, fit_inputs, out_labels, batch_size, epochs, verbose, callbacks, val_function, val_inputs, shuffle, callback_metrics, initial_epoch, steps_per_epoch, validation_steps, validation_freq)\u001b[0m\n\u001b[1;32m    202\u001b[0m                     \u001b[0mins_batch\u001b[0m\u001b[0;34m[\u001b[0m\u001b[0mi\u001b[0m\u001b[0;34m]\u001b[0m \u001b[0;34m=\u001b[0m \u001b[0mins_batch\u001b[0m\u001b[0;34m[\u001b[0m\u001b[0mi\u001b[0m\u001b[0;34m]\u001b[0m\u001b[0;34m.\u001b[0m\u001b[0mtoarray\u001b[0m\u001b[0;34m(\u001b[0m\u001b[0;34m)\u001b[0m\u001b[0;34m\u001b[0m\u001b[0;34m\u001b[0m\u001b[0m\n\u001b[1;32m    203\u001b[0m \u001b[0;34m\u001b[0m\u001b[0m\n\u001b[0;32m--> 204\u001b[0;31m                 \u001b[0mouts\u001b[0m \u001b[0;34m=\u001b[0m \u001b[0mfit_function\u001b[0m\u001b[0;34m(\u001b[0m\u001b[0mins_batch\u001b[0m\u001b[0;34m)\u001b[0m\u001b[0;34m\u001b[0m\u001b[0;34m\u001b[0m\u001b[0m\n\u001b[0m\u001b[1;32m    205\u001b[0m                 \u001b[0mouts\u001b[0m \u001b[0;34m=\u001b[0m \u001b[0mto_list\u001b[0m\u001b[0;34m(\u001b[0m\u001b[0mouts\u001b[0m\u001b[0;34m)\u001b[0m\u001b[0;34m\u001b[0m\u001b[0;34m\u001b[0m\u001b[0m\n\u001b[1;32m    206\u001b[0m                 \u001b[0;32mfor\u001b[0m \u001b[0ml\u001b[0m\u001b[0;34m,\u001b[0m \u001b[0mo\u001b[0m \u001b[0;32min\u001b[0m \u001b[0mzip\u001b[0m\u001b[0;34m(\u001b[0m\u001b[0mout_labels\u001b[0m\u001b[0;34m,\u001b[0m \u001b[0mouts\u001b[0m\u001b[0;34m)\u001b[0m\u001b[0;34m:\u001b[0m\u001b[0;34m\u001b[0m\u001b[0;34m\u001b[0m\u001b[0m\n",
      "\u001b[0;32m/usr/local/lib/python3.6/dist-packages/keras/backend/tensorflow_backend.py\u001b[0m in \u001b[0;36m__call__\u001b[0;34m(self, inputs)\u001b[0m\n\u001b[1;32m   2977\u001b[0m                     \u001b[0;32mreturn\u001b[0m \u001b[0mself\u001b[0m\u001b[0;34m.\u001b[0m\u001b[0m_legacy_call\u001b[0m\u001b[0;34m(\u001b[0m\u001b[0minputs\u001b[0m\u001b[0;34m)\u001b[0m\u001b[0;34m\u001b[0m\u001b[0;34m\u001b[0m\u001b[0m\n\u001b[1;32m   2978\u001b[0m \u001b[0;34m\u001b[0m\u001b[0m\n\u001b[0;32m-> 2979\u001b[0;31m             \u001b[0;32mreturn\u001b[0m \u001b[0mself\u001b[0m\u001b[0;34m.\u001b[0m\u001b[0m_call\u001b[0m\u001b[0;34m(\u001b[0m\u001b[0minputs\u001b[0m\u001b[0;34m)\u001b[0m\u001b[0;34m\u001b[0m\u001b[0;34m\u001b[0m\u001b[0m\n\u001b[0m\u001b[1;32m   2980\u001b[0m         \u001b[0;32melse\u001b[0m\u001b[0;34m:\u001b[0m\u001b[0;34m\u001b[0m\u001b[0;34m\u001b[0m\u001b[0m\n\u001b[1;32m   2981\u001b[0m             \u001b[0;32mif\u001b[0m \u001b[0mpy_any\u001b[0m\u001b[0;34m(\u001b[0m\u001b[0mis_tensor\u001b[0m\u001b[0;34m(\u001b[0m\u001b[0mx\u001b[0m\u001b[0;34m)\u001b[0m \u001b[0;32mfor\u001b[0m \u001b[0mx\u001b[0m \u001b[0;32min\u001b[0m \u001b[0minputs\u001b[0m\u001b[0;34m)\u001b[0m\u001b[0;34m:\u001b[0m\u001b[0;34m\u001b[0m\u001b[0;34m\u001b[0m\u001b[0m\n",
      "\u001b[0;32m/usr/local/lib/python3.6/dist-packages/keras/backend/tensorflow_backend.py\u001b[0m in \u001b[0;36m_call\u001b[0;34m(self, inputs)\u001b[0m\n\u001b[1;32m   2935\u001b[0m             \u001b[0mfetched\u001b[0m \u001b[0;34m=\u001b[0m \u001b[0mself\u001b[0m\u001b[0;34m.\u001b[0m\u001b[0m_callable_fn\u001b[0m\u001b[0;34m(\u001b[0m\u001b[0;34m*\u001b[0m\u001b[0marray_vals\u001b[0m\u001b[0;34m,\u001b[0m \u001b[0mrun_metadata\u001b[0m\u001b[0;34m=\u001b[0m\u001b[0mself\u001b[0m\u001b[0;34m.\u001b[0m\u001b[0mrun_metadata\u001b[0m\u001b[0;34m)\u001b[0m\u001b[0;34m\u001b[0m\u001b[0;34m\u001b[0m\u001b[0m\n\u001b[1;32m   2936\u001b[0m         \u001b[0;32melse\u001b[0m\u001b[0;34m:\u001b[0m\u001b[0;34m\u001b[0m\u001b[0;34m\u001b[0m\u001b[0m\n\u001b[0;32m-> 2937\u001b[0;31m             \u001b[0mfetched\u001b[0m \u001b[0;34m=\u001b[0m \u001b[0mself\u001b[0m\u001b[0;34m.\u001b[0m\u001b[0m_callable_fn\u001b[0m\u001b[0;34m(\u001b[0m\u001b[0;34m*\u001b[0m\u001b[0marray_vals\u001b[0m\u001b[0;34m)\u001b[0m\u001b[0;34m\u001b[0m\u001b[0;34m\u001b[0m\u001b[0m\n\u001b[0m\u001b[1;32m   2938\u001b[0m         \u001b[0;32mreturn\u001b[0m \u001b[0mfetched\u001b[0m\u001b[0;34m[\u001b[0m\u001b[0;34m:\u001b[0m\u001b[0mlen\u001b[0m\u001b[0;34m(\u001b[0m\u001b[0mself\u001b[0m\u001b[0;34m.\u001b[0m\u001b[0moutputs\u001b[0m\u001b[0;34m)\u001b[0m\u001b[0;34m]\u001b[0m\u001b[0;34m\u001b[0m\u001b[0;34m\u001b[0m\u001b[0m\n\u001b[1;32m   2939\u001b[0m \u001b[0;34m\u001b[0m\u001b[0m\n",
      "\u001b[0;32m/usr/local/lib/python3.6/dist-packages/tensorflow_core/python/client/session.py\u001b[0m in \u001b[0;36m__call__\u001b[0;34m(self, *args, **kwargs)\u001b[0m\n\u001b[1;32m   1470\u001b[0m         ret = tf_session.TF_SessionRunCallable(self._session._session,\n\u001b[1;32m   1471\u001b[0m                                                \u001b[0mself\u001b[0m\u001b[0;34m.\u001b[0m\u001b[0m_handle\u001b[0m\u001b[0;34m,\u001b[0m \u001b[0margs\u001b[0m\u001b[0;34m,\u001b[0m\u001b[0;34m\u001b[0m\u001b[0;34m\u001b[0m\u001b[0m\n\u001b[0;32m-> 1472\u001b[0;31m                                                run_metadata_ptr)\n\u001b[0m\u001b[1;32m   1473\u001b[0m         \u001b[0;32mif\u001b[0m \u001b[0mrun_metadata\u001b[0m\u001b[0;34m:\u001b[0m\u001b[0;34m\u001b[0m\u001b[0;34m\u001b[0m\u001b[0m\n\u001b[1;32m   1474\u001b[0m           \u001b[0mproto_data\u001b[0m \u001b[0;34m=\u001b[0m \u001b[0mtf_session\u001b[0m\u001b[0;34m.\u001b[0m\u001b[0mTF_GetBuffer\u001b[0m\u001b[0;34m(\u001b[0m\u001b[0mrun_metadata_ptr\u001b[0m\u001b[0;34m)\u001b[0m\u001b[0;34m\u001b[0m\u001b[0;34m\u001b[0m\u001b[0m\n",
      "\u001b[0;31mKeyboardInterrupt\u001b[0m: "
     ]
    }
   ],
   "source": [
    "BATCH_SIZE = 128\n",
    "EPOCHS = 50\n",
    "from keras.callbacks import ModelCheckpoint\n",
    "mcp = ModelCheckpoint(filepath='/content/drive/My Drive/NLP - UT/model_4.h5',monitor=\"val_acc\", save_best_only=True, save_weights_only=False)\n",
    "from keras.optimizers import Adam\n",
    "# Compile model\n",
    "model.compile(optimizer=Adam(lr=0.003),\n",
    "              loss='categorical_crossentropy',\n",
    "              metrics=['accuracy'])\n",
    "\n",
    "# Train model\n",
    "model.fit(x_train, y_train,\n",
    "          batch_size=BATCH_SIZE,\n",
    "          epochs=EPOCHS,\n",
    "          callbacks=[mcp],\n",
    "          verbose=1,\n",
    "          validation_data=(x_test, y_test))"
   ]
  },
  {
   "cell_type": "code",
   "execution_count": 0,
   "metadata": {
    "colab": {},
    "colab_type": "code",
    "id": "dPilFkIVCYuj"
   },
   "outputs": [],
   "source": []
  }
 ],
 "metadata": {
  "accelerator": "GPU",
  "colab": {
   "collapsed_sections": [],
   "machine_shape": "hm",
   "name": "train.ipynb",
   "provenance": [],
   "toc_visible": true
  },
  "kernelspec": {
   "display_name": "Python 3",
   "language": "python",
   "name": "python3"
  },
  "language_info": {
   "codemirror_mode": {
    "name": "ipython",
    "version": 3
   },
   "file_extension": ".py",
   "mimetype": "text/x-python",
   "name": "python",
   "nbconvert_exporter": "python",
   "pygments_lexer": "ipython3",
   "version": "3.6.4"
  }
 },
 "nbformat": 4,
 "nbformat_minor": 1
}
