{
 "cells": [
  {
   "cell_type": "code",
   "execution_count": 1,
   "metadata": {},
   "outputs": [],
   "source": [
    "import numpy as np"
   ]
  },
  {
   "cell_type": "code",
   "execution_count": 12,
   "metadata": {},
   "outputs": [],
   "source": [
    "def f(x, y):\n",
    "    return (-1) * ((x + 1)**2 + (y-1)**2)\n",
    "\n",
    "def dfx(x, y):\n",
    "    return 2 * (x + 1)\n",
    "\n",
    "def dfy(x, y):\n",
    "    return 2 * (y - 1)\n",
    "\n",
    "def J(x, y):\n",
    "    return np.array([\n",
    "        dfx(x, y),\n",
    "        dfy(x, y)\n",
    "    ])"
   ]
  },
  {
   "cell_type": "code",
   "execution_count": 6,
   "metadata": {},
   "outputs": [
    {
     "data": {
      "text/plain": [
       "3.0"
      ]
     },
     "execution_count": 6,
     "metadata": {},
     "output_type": "execute_result"
    }
   ],
   "source": [
    "x = np.array([1, 2, 2])\n",
    "norm = np.linalg.norm(x)\n",
    "norm"
   ]
  },
  {
   "cell_type": "code",
   "execution_count": 31,
   "metadata": {},
   "outputs": [
    {
     "name": "stdout",
     "output_type": "stream",
     "text": [
      "[9 9]\n",
      "[20 16]\n",
      "[-1.  1.]\n",
      "25.612496949731394\n",
      "[-1.  1.]\n",
      "[0. 0.]\n",
      "[-1.  1.]\n",
      "0.0\n"
     ]
    },
    {
     "data": {
      "text/plain": [
       "array([-1.,  1.])"
      ]
     },
     "execution_count": 31,
     "metadata": {},
     "output_type": "execute_result"
    }
   ],
   "source": [
    "step = 0.5\n",
    "\n",
    "a = 9\n",
    "b = 9\n",
    "i = 0\n",
    "\n",
    "Sn = np.array([9, 9])\n",
    "\n",
    "while (1):\n",
    "    Jnorm = np.linalg.norm(J(Sn[0], Sn[1]))\n",
    "    jacobian = J(Sn[0], Sn[1])\n",
    "    Snext = Sn - 0.5 * jacobian\n",
    "\n",
    "    Sn = Snext\n",
    "    if (Jnorm < 0.01):\n",
    "        break;\n",
    "Sn"
   ]
  },
  {
   "cell_type": "code",
   "execution_count": null,
   "metadata": {},
   "outputs": [],
   "source": []
  }
 ],
 "metadata": {
  "kernelspec": {
   "display_name": "Python 3",
   "language": "python",
   "name": "python3"
  },
  "language_info": {
   "codemirror_mode": {
    "name": "ipython",
    "version": 3
   },
   "file_extension": ".py",
   "mimetype": "text/x-python",
   "name": "python",
   "nbconvert_exporter": "python",
   "pygments_lexer": "ipython3",
   "version": "3.6.4"
  }
 },
 "nbformat": 4,
 "nbformat_minor": 2
}
