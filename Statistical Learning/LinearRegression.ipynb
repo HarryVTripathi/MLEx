{
 "cells": [
  {
   "cell_type": "code",
   "execution_count": 58,
   "metadata": {},
   "outputs": [],
   "source": [
    "import numpy as np\n",
    "import matplotlib\n",
    "import pandas as pd\n",
    "from matplotlib import pyplot as plt"
   ]
  },
  {
   "cell_type": "code",
   "execution_count": 59,
   "metadata": {},
   "outputs": [],
   "source": [
    "data = pd.read_csv('C:\\\\Users\\\\Harry\\\\Documents\\\\DS\\\\Datasets\\\\headbrain.csv')\n",
    "size = len(X)"
   ]
  },
  {
   "cell_type": "code",
   "execution_count": 60,
   "metadata": {},
   "outputs": [
    {
     "data": {
      "text/html": [
       "<div>\n",
       "<style scoped>\n",
       "    .dataframe tbody tr th:only-of-type {\n",
       "        vertical-align: middle;\n",
       "    }\n",
       "\n",
       "    .dataframe tbody tr th {\n",
       "        vertical-align: top;\n",
       "    }\n",
       "\n",
       "    .dataframe thead th {\n",
       "        text-align: right;\n",
       "    }\n",
       "</style>\n",
       "<table border=\"1\" class=\"dataframe\">\n",
       "  <thead>\n",
       "    <tr style=\"text-align: right;\">\n",
       "      <th></th>\n",
       "      <th>Gender</th>\n",
       "      <th>Age Range</th>\n",
       "      <th>Head Size(cm^3)</th>\n",
       "      <th>Brain Weight(grams)</th>\n",
       "    </tr>\n",
       "  </thead>\n",
       "  <tbody>\n",
       "    <tr>\n",
       "      <th>232</th>\n",
       "      <td>2</td>\n",
       "      <td>2</td>\n",
       "      <td>3214</td>\n",
       "      <td>1110</td>\n",
       "    </tr>\n",
       "    <tr>\n",
       "      <th>233</th>\n",
       "      <td>2</td>\n",
       "      <td>2</td>\n",
       "      <td>3394</td>\n",
       "      <td>1215</td>\n",
       "    </tr>\n",
       "    <tr>\n",
       "      <th>234</th>\n",
       "      <td>2</td>\n",
       "      <td>2</td>\n",
       "      <td>3233</td>\n",
       "      <td>1104</td>\n",
       "    </tr>\n",
       "    <tr>\n",
       "      <th>235</th>\n",
       "      <td>2</td>\n",
       "      <td>2</td>\n",
       "      <td>3352</td>\n",
       "      <td>1170</td>\n",
       "    </tr>\n",
       "    <tr>\n",
       "      <th>236</th>\n",
       "      <td>2</td>\n",
       "      <td>2</td>\n",
       "      <td>3391</td>\n",
       "      <td>1120</td>\n",
       "    </tr>\n",
       "  </tbody>\n",
       "</table>\n",
       "</div>"
      ],
      "text/plain": [
       "     Gender  Age Range  Head Size(cm^3)  Brain Weight(grams)\n",
       "232       2          2             3214                 1110\n",
       "233       2          2             3394                 1215\n",
       "234       2          2             3233                 1104\n",
       "235       2          2             3352                 1170\n",
       "236       2          2             3391                 1120"
      ]
     },
     "execution_count": 60,
     "metadata": {},
     "output_type": "execute_result"
    }
   ],
   "source": [
    "data.tail()"
   ]
  },
  {
   "cell_type": "code",
   "execution_count": 61,
   "metadata": {},
   "outputs": [
    {
     "name": "stdout",
     "output_type": "stream",
     "text": [
      "3633.9915611814345\n",
      "1282.873417721519\n"
     ]
    }
   ],
   "source": [
    "# Can also use: X = data['Gender'].to_numpy()\n",
    "X = data['Head Size(cm^3)'].to_numpy()\n",
    "Y = data['Brain Weight(grams)'].to_numpy()\n",
    "\n",
    "x_mean = np.mean(X)\n",
    "y_mean = np.mean(Y)\n",
    "\n",
    "print(x_mean)\n",
    "print(y_mean)"
   ]
  },
  {
   "cell_type": "code",
   "execution_count": 63,
   "metadata": {},
   "outputs": [
    {
     "name": "stdout",
     "output_type": "stream",
     "text": [
      "0.26342933948939934\n",
      "325.5734210494426\n"
     ]
    }
   ],
   "source": [
    "x_mean_vector = X - x_mean\n",
    "y_mean_vector = Y - y_mean\n",
    "\n",
    "covar_xy = x_mean_vector @ y_mean_vector\n",
    "var_x = x_mean_vector @ x_mean_vector\n",
    "var_y = y_mean_vector @ y_mean_vector\n",
    "\n",
    "b1 = cov_xy/var_x\n",
    "b0 = y_mean - (b1 * x_mean)\n",
    "\n",
    "print(b1)\n",
    "print(b0)"
   ]
  },
  {
   "cell_type": "code",
   "execution_count": null,
   "metadata": {},
   "outputs": [],
   "source": [
    "residual_vec = Y - (b0 + b1 * X)\n",
    "rss = residual_vec @ residual_vec\n",
    "\n",
    "# Residual standard error, RSE is an estimate of standard \n",
    "# deviation of error term (epsilon)\n",
    "rse = np.sqrt(rss/(size-2))\n",
    "\n",
    "SE_b0 = (rse**2/size) * (1 + x_mean**2/var_x)\n",
    "SE_b1 (rse**2/(n * var_x))\n",
    "\n",
    "R_squared = 1 - (rss/var_y)"
   ]
  },
  {
   "cell_type": "code",
   "execution_count": 43,
   "metadata": {},
   "outputs": [
    {
     "name": "stdout",
     "output_type": "stream",
     "text": [
      "325.57342104944223\n",
      "0.26342933948939945\n"
     ]
    }
   ],
   "source": [
    "covariance_x_y = 0\n",
    "variance_x = 0\n",
    "for i in range(size):\n",
    "    covariance_x_y += (X[i]-x_mean) * (Y[i]-y_mean)\n",
    "    variance_x += (X[i]-x_mean) **2\n",
    "    \n",
    "b1 = covariance_x_y/variance_x\n",
    "b0 = y_mean - (b1 * x_mean)\n",
    "\n",
    "print(b0)\n",
    "print(b1)"
   ]
  },
  {
   "cell_type": "code",
   "execution_count": 24,
   "metadata": {},
   "outputs": [],
   "source": [
    "from sklearn.linear_model import LinearRegression\n",
    "from sklearn.metrics import mean_squared_error"
   ]
  },
  {
   "cell_type": "code",
   "execution_count": 75,
   "metadata": {},
   "outputs": [
    {
     "name": "stdout",
     "output_type": "stream",
     "text": [
      "0.26342933948939934\n",
      "325.5734210494426\n"
     ]
    }
   ],
   "source": [
    "reg = LinearRegression()\n",
    "X = X.reshape((size,1))\n",
    "# fitting training data\n",
    "reg = reg.fit(X, Y)\n",
    "\n",
    "# If True, X will be copied; else, it may be overwritten.\n",
    "LinearRegression(copy_X=True, fit_intercept=True, n_jobs=None, normalize=False)\n",
    "\n",
    "print(reg.coef_[0])\n",
    "print(reg.intercept_)"
   ]
  },
  {
   "cell_type": "code",
   "execution_count": 54,
   "metadata": {},
   "outputs": [
    {
     "name": "stdout",
     "output_type": "stream",
     "text": [
      "[1642.7201185]\n"
     ]
    }
   ],
   "source": [
    "# Line becomes: 325.5734210494426 + X * 0.26342933948939934\n",
    "Y_predicted = reg.predict([[5000]])\n",
    "print(Y_predicted)\n",
    "\n",
    "# r2_score = reg.score(X,Y)"
   ]
  },
  {
   "cell_type": "code",
   "execution_count": 83,
   "metadata": {},
   "outputs": [
    {
     "data": {
      "image/png": "[encoded data removed]",
      "text/plain": [
       "<Figure size 432x288 with 1 Axes>"
      ]
     },
     "metadata": {},
     "output_type": "display_data"
    }
   ],
   "source": [
    "X_test = np.arange(2700, 4800, 10)\n",
    "X_test = X_test.reshape((len(X_test),1))\n",
    "Y_test = reg.predict(X_test)\n",
    "\n",
    "plt.scatter(X, Y, color='r')\n",
    "plt.xlabel('Head Size(cm^3)')\n",
    "plt.ylabel('Brain Weight(grams)')\n",
    "plt.plot(X_test, Y_test)\n",
    "plt.show()"
   ]
  },
  {
   "cell_type": "code",
   "execution_count": null,
   "metadata": {},
   "outputs": [],
   "source": []
  }
 ],
 "metadata": {
  "kernelspec": {
   "display_name": "Python 3",
   "language": "python",
   "name": "python3"
  },
  "language_info": {
   "codemirror_mode": {
    "name": "ipython",
    "version": 3
   },
   "file_extension": ".py",
   "mimetype": "text/x-python",
   "name": "python",
   "nbconvert_exporter": "python",
   "pygments_lexer": "ipython3",
   "version": "3.6.4"
  }
 },
 "nbformat": 4,
 "nbformat_minor": 2
}
