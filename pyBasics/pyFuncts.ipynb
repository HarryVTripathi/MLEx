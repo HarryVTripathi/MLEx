{
 "cells": [
  {
   "cell_type": "code",
   "execution_count": 3,
   "metadata": {},
   "outputs": [
    {
     "name": "stdout",
     "output_type": "stream",
     "text": [
      "Hi  sanu\n",
      "good morning\n",
      "Hi  sanu\n",
      "kesa hai bhenchod!\n"
     ]
    }
   ],
   "source": [
    "# Default args\n",
    "def greet(name, msg=\"good morning\"):\n",
    "    print('Hi ', name)\n",
    "    print(msg)\n",
    "    return\n",
    "\n",
    "greet('sanu')\n",
    "greet('sanu', 'kesa hai bhenchod!')"
   ]
  },
  {
   "cell_type": "code",
   "execution_count": 6,
   "metadata": {},
   "outputs": [
    {
     "name": "stdout",
     "output_type": "stream",
     "text": [
      "Sasuke  is  6ft  tall\n",
      "Naruto  is  5ft-11  tall\n",
      "Ashara Trimson  is  7ft-9  tall\n"
     ]
    }
   ],
   "source": [
    "# Keyword args\n",
    "def getStats(name, height='6ft'):\n",
    "    print(name, ' is ', height, ' tall')\n",
    "    return\n",
    "\n",
    "getStats('Sasuke')\n",
    "getStats('Naruto', '5ft-11')\n",
    "\n",
    "# just like passing object args in JS\n",
    "getStats(height='7ft-9', name='Ashara Trimson')"
   ]
  },
  {
   "cell_type": "code",
   "execution_count": null,
   "metadata": {},
   "outputs": [],
   "source": []
  }
 ],
 "metadata": {
  "kernelspec": {
   "display_name": "Python 3",
   "language": "python",
   "name": "python3"
  },
  "language_info": {
   "codemirror_mode": {
    "name": "ipython",
    "version": 3
   },
   "file_extension": ".py",
   "mimetype": "text/x-python",
   "name": "python",
   "nbconvert_exporter": "python",
   "pygments_lexer": "ipython3",
   "version": "3.6.4"
  }
 },
 "nbformat": 4,
 "nbformat_minor": 2
}
