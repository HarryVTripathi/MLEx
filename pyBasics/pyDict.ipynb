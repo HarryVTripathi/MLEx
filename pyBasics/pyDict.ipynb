{
 "cells": [
  {
   "cell_type": "code",
   "execution_count": 10,
   "metadata": {},
   "outputs": [],
   "source": [
    "tesla = 'Tesla Inc.'\n",
    "designer = 'designer_name'\n",
    "\n",
    "cybertruck = {\n",
    "    'name': 'Cybertruck',\n",
    "    'manufacturer': tesla,\n",
    "    'class': 'Light Commercial Vehicle',\n",
    "    designer: 'Franz von Holzhausen',\n",
    "    'length': 231.7,\n",
    "    'width': 79.8,\n",
    "    'height': 75\n",
    "}"
   ]
  },
  {
   "cell_type": "code",
   "execution_count": 11,
   "metadata": {},
   "outputs": [
    {
     "data": {
      "text/plain": [
       "'Tesla Inc.'"
      ]
     },
     "execution_count": 11,
     "metadata": {},
     "output_type": "execute_result"
    }
   ],
   "source": [
    "cybertruck['manufacturer']"
   ]
  },
  {
   "cell_type": "code",
   "execution_count": 12,
   "metadata": {},
   "outputs": [
    {
     "data": {
      "text/plain": [
       "'Franz von Holzhausen'"
      ]
     },
     "execution_count": 12,
     "metadata": {},
     "output_type": "execute_result"
    }
   ],
   "source": [
    "cybertruck[designer]"
   ]
  },
  {
   "cell_type": "code",
   "execution_count": 13,
   "metadata": {},
   "outputs": [],
   "source": [
    "roadster = dict({\n",
    "    'name': 'roadster',\n",
    "    'manufacturer': tesla,\n",
    "    'class': 'Sports car',\n",
    "    designer: 'Franz von Holzhausen',\n",
    "    'battery': '200 kWh'\n",
    "})"
   ]
  },
  {
   "cell_type": "code",
   "execution_count": 14,
   "metadata": {},
   "outputs": [
    {
     "data": {
      "text/plain": [
       "{'battery': '200 kWh',\n",
       " 'class': 'Sports car',\n",
       " 'designer_name': 'Franz von Holzhausen',\n",
       " 'manufacturer': 'Tesla Inc.',\n",
       " 'name': 'roadster'}"
      ]
     },
     "execution_count": 14,
     "metadata": {},
     "output_type": "execute_result"
    }
   ],
   "source": [
    "roadster"
   ]
  },
  {
   "cell_type": "markdown",
   "metadata": {},
   "source": [
    "#### Adding element to dict"
   ]
  },
  {
   "cell_type": "code",
   "execution_count": 35,
   "metadata": {},
   "outputs": [],
   "source": [
    "roadster['electric_range'] = 2000\n",
    "roadster['height'] = 100\n",
    "roadster['width'] = 40"
   ]
  },
  {
   "cell_type": "code",
   "execution_count": 36,
   "metadata": {},
   "outputs": [
    {
     "data": {
      "text/plain": [
       "{'battery': '200 kWh',\n",
       " 'class': 'Sports car',\n",
       " 'designer_name': 'Franz von Holzhausen',\n",
       " 'electric_range': 2000,\n",
       " 'height': 100,\n",
       " 'manufacturer': 'Tesla Inc.',\n",
       " 'name': 'roadster',\n",
       " 'width': 40}"
      ]
     },
     "execution_count": 36,
     "metadata": {},
     "output_type": "execute_result"
    }
   ],
   "source": [
    "roadster"
   ]
  },
  {
   "cell_type": "markdown",
   "metadata": {},
   "source": [
    " #### Deleting from dictionary"
   ]
  },
  {
   "cell_type": "code",
   "execution_count": 33,
   "metadata": {},
   "outputs": [],
   "source": [
    "roadster.pop('height')\n",
    "del roadster['width']"
   ]
  },
  {
   "cell_type": "code",
   "execution_count": 34,
   "metadata": {},
   "outputs": [
    {
     "data": {
      "text/plain": [
       "{'battery': '200 kWh',\n",
       " 'class': 'Sports car',\n",
       " 'designer_name': 'Franz von Holzhausen',\n",
       " 'electric_range': 2000,\n",
       " 'manufacturer': 'Tesla Inc.',\n",
       " 'name': 'roadster'}"
      ]
     },
     "execution_count": 34,
     "metadata": {},
     "output_type": "execute_result"
    }
   ],
   "source": [
    "roadster"
   ]
  },
  {
   "cell_type": "markdown",
   "metadata": {},
   "source": [
    "### Dictionary methods"
   ]
  },
  {
   "cell_type": "markdown",
   "metadata": {},
   "source": [
    "#### copy"
   ]
  },
  {
   "cell_type": "code",
   "execution_count": 48,
   "metadata": {},
   "outputs": [],
   "source": [
    "# this will manipulate the same dictionary\n",
    "bc = cybertruck\n",
    "ac = cybertruck.copy()"
   ]
  },
  {
   "cell_type": "code",
   "execution_count": 42,
   "metadata": {},
   "outputs": [
    {
     "data": {
      "text/plain": [
       "'Light Commercial Vehicle'"
      ]
     },
     "execution_count": 42,
     "metadata": {},
     "output_type": "execute_result"
    }
   ],
   "source": [
    "ac.pop('class')"
   ]
  },
  {
   "cell_type": "code",
   "execution_count": 45,
   "metadata": {},
   "outputs": [
    {
     "name": "stdout",
     "output_type": "stream",
     "text": [
      "{'name': 'Cybertruck', 'manufacturer': 'Tesla Inc.', 'designer_name': 'Franz von Holzhausen', 'length': 231.7, 'width': 79.8, 'height': 75}\n",
      "{'name': 'Cybertruck', 'manufacturer': 'Tesla Inc.', 'class': 'Light Commercial Vehicle', 'designer_name': 'Franz von Holzhausen', 'length': 231.7, 'width': 79.8, 'height': 75}\n"
     ]
    }
   ],
   "source": [
    "print(ac)\n",
    "print(cybertruck)"
   ]
  },
  {
   "cell_type": "code",
   "execution_count": 46,
   "metadata": {},
   "outputs": [
    {
     "data": {
      "text/plain": [
       "'Light Commercial Vehicle'"
      ]
     },
     "execution_count": 46,
     "metadata": {},
     "output_type": "execute_result"
    }
   ],
   "source": [
    "bc.pop('class')"
   ]
  },
  {
   "cell_type": "code",
   "execution_count": 47,
   "metadata": {},
   "outputs": [
    {
     "name": "stdout",
     "output_type": "stream",
     "text": [
      "{'name': 'Cybertruck', 'manufacturer': 'Tesla Inc.', 'designer_name': 'Franz von Holzhausen', 'length': 231.7, 'width': 79.8, 'height': 75}\n",
      "{'name': 'Cybertruck', 'manufacturer': 'Tesla Inc.', 'designer_name': 'Franz von Holzhausen', 'length': 231.7, 'width': 79.8, 'height': 75}\n"
     ]
    }
   ],
   "source": [
    "print(bc)\n",
    "print(cybertruck)"
   ]
  },
  {
   "cell_type": "code",
   "execution_count": 51,
   "metadata": {},
   "outputs": [
    {
     "data": {
      "text/plain": [
       "dict_values(['Cybertruck', 'Tesla Inc.', 'Franz von Holzhausen', 231.7, 79.8, 75])"
      ]
     },
     "execution_count": 51,
     "metadata": {},
     "output_type": "execute_result"
    }
   ],
   "source": [
    "cybertruck.values()"
   ]
  },
  {
   "cell_type": "code",
   "execution_count": 52,
   "metadata": {},
   "outputs": [
    {
     "data": {
      "text/plain": [
       "dict_items([('name', 'Cybertruck'), ('manufacturer', 'Tesla Inc.'), ('designer_name', 'Franz von Holzhausen'), ('length', 231.7), ('width', 79.8), ('height', 75)])"
      ]
     },
     "execution_count": 52,
     "metadata": {},
     "output_type": "execute_result"
    }
   ],
   "source": [
    "cybertruck.items()"
   ]
  },
  {
   "cell_type": "code",
   "execution_count": 53,
   "metadata": {},
   "outputs": [
    {
     "data": {
      "text/plain": [
       "dict_keys(['name', 'manufacturer', 'designer_name', 'length', 'width', 'height'])"
      ]
     },
     "execution_count": 53,
     "metadata": {},
     "output_type": "execute_result"
    }
   ],
   "source": [
    "cybertruck.keys()"
   ]
  },
  {
   "cell_type": "code",
   "execution_count": 54,
   "metadata": {},
   "outputs": [
    {
     "data": {
      "text/plain": [
       "6"
      ]
     },
     "execution_count": 54,
     "metadata": {},
     "output_type": "execute_result"
    }
   ],
   "source": [
    "len(cybertruck)"
   ]
  },
  {
   "cell_type": "code",
   "execution_count": 55,
   "metadata": {},
   "outputs": [
    {
     "data": {
      "text/plain": [
       "True"
      ]
     },
     "execution_count": 55,
     "metadata": {},
     "output_type": "execute_result"
    }
   ],
   "source": [
    "any(cybertruck)"
   ]
  },
  {
   "cell_type": "code",
   "execution_count": 56,
   "metadata": {},
   "outputs": [
    {
     "data": {
      "text/plain": [
       "True"
      ]
     },
     "execution_count": 56,
     "metadata": {},
     "output_type": "execute_result"
    }
   ],
   "source": [
    "all(cybertruck)"
   ]
  },
  {
   "cell_type": "code",
   "execution_count": 59,
   "metadata": {},
   "outputs": [
    {
     "name": "stdout",
     "output_type": "stream",
     "text": [
      "name  is  Cybertruck\n",
      "manufacturer  is  Tesla Inc.\n",
      "designer_name  is  Franz von Holzhausen\n",
      "length  is  231.7\n",
      "width  is  79.8\n",
      "height  is  75\n",
      "class  is  Light Commercial Vehicle\n"
     ]
    }
   ],
   "source": [
    "cybertruck['class'] = 'Light Commercial Vehicle'\n",
    "for key in cybertruck:\n",
    "    print(key, ' is ', cybertruck[key])"
   ]
  },
  {
   "cell_type": "code",
   "execution_count": 61,
   "metadata": {},
   "outputs": [],
   "source": [
    "sents = [str(keys) + ' is ' + str(roadster[keys]) for keys in roadster ]"
   ]
  },
  {
   "cell_type": "code",
   "execution_count": 62,
   "metadata": {},
   "outputs": [
    {
     "data": {
      "text/plain": [
       "['name is roadster',\n",
       " 'manufacturer is Tesla Inc.',\n",
       " 'class is Sports car',\n",
       " 'designer_name is Franz von Holzhausen',\n",
       " 'battery is 200 kWh',\n",
       " 'electric_range is 2000',\n",
       " 'height is 100',\n",
       " 'width is 40']"
      ]
     },
     "execution_count": 62,
     "metadata": {},
     "output_type": "execute_result"
    }
   ],
   "source": [
    "sents"
   ]
  },
  {
   "cell_type": "code",
   "execution_count": null,
   "metadata": {},
   "outputs": [],
   "source": []
  }
 ],
 "metadata": {
  "kernelspec": {
   "display_name": "Python 3",
   "language": "python",
   "name": "python3"
  },
  "language_info": {
   "codemirror_mode": {
    "name": "ipython",
    "version": 3
   },
   "file_extension": ".py",
   "mimetype": "text/x-python",
   "name": "python",
   "nbconvert_exporter": "python",
   "pygments_lexer": "ipython3",
   "version": "3.6.4"
  }
 },
 "nbformat": 4,
 "nbformat_minor": 2
}
