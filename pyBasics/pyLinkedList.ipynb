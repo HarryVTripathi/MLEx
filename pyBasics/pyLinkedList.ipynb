{
 "cells": [
  {
   "cell_type": "code",
   "execution_count": 21,
   "metadata": {},
   "outputs": [],
   "source": [
    "\n",
    "class Node:\n",
    "    # Class property\n",
    "    typeId = \"CommonId-For-All-Objects-Of-This-Class-Node\" \n",
    "    \n",
    "    # Constructor\n",
    "    def __init__(self, value):\n",
    "        # Instance property\n",
    "        self.value = value\n",
    "        self.next = None\n",
    "        print(\"Node Object constructed\")\n",
    "        \n",
    "    def getNext():\n",
    "        return self.next.value\n",
    "    "
   ]
  },
  {
   "cell_type": "code",
   "execution_count": 39,
   "metadata": {},
   "outputs": [],
   "source": [
    "class LinkedList:\n",
    "    typeId = \"CommonId-For-All-Objects-Of-This-Class-List\"\n",
    "    \n",
    "    # Constructor\n",
    "    def __init__(self):\n",
    "        self.head = None\n",
    "    \n",
    "    \n",
    "    def add(self, value):\n",
    "        node = Node(value)\n",
    "        \n",
    "        if not self.head:\n",
    "            self.head = node\n",
    "            print('Value added', value)\n",
    "        \n",
    "        else:\n",
    "            traverser = self.head\n",
    "            while traverser.next:\n",
    "                traverser = traverser.next\n",
    "            \n",
    "            traverser.next = node\n",
    "            print('Value added', value)\n",
    "    \n",
    "    def printList(self):\n",
    "        traverser = self.head\n",
    "        while traverser:\n",
    "            print(traverser.value)\n",
    "            traverser = traverser.next"
   ]
  },
  {
   "cell_type": "code",
   "execution_count": 40,
   "metadata": {},
   "outputs": [
    {
     "name": "stdout",
     "output_type": "stream",
     "text": [
      "Node Object constructed\n",
      "Node Object constructed\n",
      "Value added 4\n",
      "Node Object constructed\n",
      "Value added 5\n",
      "Node Object constructed\n",
      "Value added 9\n",
      "Node Object constructed\n",
      "Value added 16\n",
      "4\n",
      "5\n",
      "9\n",
      "16\n"
     ]
    }
   ],
   "source": [
    "a = Node(5)\n",
    "a.typeId\n",
    "a.value\n",
    "\n",
    "list1 = LinkedList()\n",
    "list1.add(4)\n",
    "list1.add(5)\n",
    "list1.add(9)\n",
    "list1.add(16)\n",
    "\n",
    "list1.printList()"
   ]
  },
  {
   "cell_type": "markdown",
   "metadata": {},
   "source": [
    "`Class.Method(5)`\n",
    "\n",
    "... is syntactic sugar, which the interpreter translates behind the scenes into:\n",
    "\n",
    "`Class.Method(Object, 5)`, which would become\n",
    "`Node(self, 5)`"
   ]
  },
  {
   "cell_type": "code",
   "execution_count": 13,
   "metadata": {},
   "outputs": [
    {
     "name": "stdout",
     "output_type": "stream",
     "text": [
      "chacah\n"
     ]
    }
   ],
   "source": [
    "# None here, is a falsy type\n",
    "a = None\n",
    "if not a:\n",
    "    print('chacah')"
   ]
  },
  {
   "cell_type": "code",
   "execution_count": null,
   "metadata": {},
   "outputs": [],
   "source": []
  }
 ],
 "metadata": {
  "kernelspec": {
   "display_name": "Python 3",
   "language": "python",
   "name": "python3"
  },
  "language_info": {
   "codemirror_mode": {
    "name": "ipython",
    "version": 3
   },
   "file_extension": ".py",
   "mimetype": "text/x-python",
   "name": "python",
   "nbconvert_exporter": "python",
   "pygments_lexer": "ipython3",
   "version": "3.6.4"
  }
 },
 "nbformat": 4,
 "nbformat_minor": 2
}
